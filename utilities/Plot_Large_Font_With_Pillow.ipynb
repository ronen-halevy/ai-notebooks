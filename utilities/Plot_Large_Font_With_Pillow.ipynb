{
  "nbformat": 4,
  "nbformat_minor": 0,
  "metadata": {
    "colab": {
      "name": "Create_Large_Txt_With_Pillow.ipynb",
      "provenance": [],
      "authorship_tag": "ABX9TyP1AWgja1q2WiUJ/7gjchpH",
      "include_colab_link": true
    },
    "kernelspec": {
      "name": "python3",
      "display_name": "Python 3"
    },
    "language_info": {
      "name": "python"
    }
  },
  "cells": [
    {
      "cell_type": "markdown",
      "metadata": {
        "id": "view-in-github",
        "colab_type": "text"
      },
      "source": [
        "<a href=\"https://colab.research.google.com/github/ronen-halevy/ai-notebooks/blob/main/utilities/Plot_Large_Font_With_Pillow.ipynb\" target=\"_parent\"><img src=\"https://colab.research.google.com/assets/colab-badge.svg\" alt=\"Open In Colab\"/></a>"
      ]
    },
    {
      "cell_type": "code",
      "execution_count": 5,
      "metadata": {
        "colab": {
          "base_uri": "https://localhost:8080/",
          "height": 284
        },
        "id": "Xs0TjDTKrrDG",
        "outputId": "0d6317e4-2625-4ef6-cb33-746e2b32b9aa"
      },
      "outputs": [
        {
          "output_type": "execute_result",
          "data": {
            "text/plain": [
              "<matplotlib.image.AxesImage at 0x7f572b859b90>"
            ]
          },
          "metadata": {},
          "execution_count": 5
        },
        {
          "output_type": "display_data",
          "data": {
            "image/png": "[encoded data removed]",
            "text/plain": [
              "<Figure size 432x288 with 1 Axes>"
            ]
          },
          "metadata": {
            "needs_background": "light"
          }
        }
      ],
      "source": [
        "import os\n",
        "import PIL.Image, PIL.ImageFont, PIL.ImageDraw\n",
        "from matplotlib import pyplot as plt\n",
        "\n",
        "MATPLOTLIB_FONT_DIR = os.path.join(os.path.dirname(plt.__file__), \"mpl-data/fonts/ttf\")\n",
        "\n",
        "txt='f'\n",
        "\n",
        "font =  PIL.ImageFont.truetype(os.path.join(MATPLOTLIB_FONT_DIR,'DejaVuSansMono-Oblique.ttf'), 45)\n",
        "image =  PIL.Image.new('RGB', (45, 40), (63, 63, 63))\n",
        "drawer =  PIL.ImageDraw.Draw(image)\n",
        "(offset_w, offset_h) = font.getoffset(txt)\n",
        "drawer.text((10, -4), txt, align='center', font=font)\n",
        "image.show()\n",
        "image.save('example.png', 'PNG')\n",
        "plt.imshow(image)"
      ]
    }
  ]
}