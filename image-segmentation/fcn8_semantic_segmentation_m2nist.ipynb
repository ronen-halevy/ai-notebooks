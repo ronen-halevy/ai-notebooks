{
  "nbformat": 4,
  "nbformat_minor": 0,
  "metadata": {
    "colab": {
      "name": "fcn8_semantic_segmentation_m2nist.ipynb",
      "provenance": [],
      "collapsed_sections": [
        "sYCTk6DNouE8",
        "VxuFXdU6pXL4",
        "ACZHMXd-85fz",
        "GfHJEOS1yHWr",
        "QFv2k8xabRb8",
        "qiN6FTJ8dVRk",
        "2bTkaFM2X1gr",
        "mkys-L68sr5U",
        "hpKDUuAWX5Pj",
        "EiG9K4t6X9iZ",
        "vvw0HLY2kV3w"
      ],
      "machine_shape": "hm"
    },
    "kernelspec": {
      "display_name": "Python 3",
      "language": "python",
      "name": "python3"
    },
    "language_info": {
      "codemirror_mode": {
        "name": "ipython",
        "version": 3
      },
      "file_extension": ".py",
      "mimetype": "text/x-python",
      "name": "python",
      "nbconvert_exporter": "python",
      "pygments_lexer": "ipython3",
      "version": "3.7.10"
    }
  },
  "cells": [
    {
      "cell_type": "markdown",
      "metadata": {
        "id": "sYCTk6DNouE8"
      },
      "source": [
        "## **Project Overview**: \n",
        "\n",
        "| <br/><font size=\"3\"><b> Focus </b></font><br/><br/>  | <br/><font size=\"3\"><b> Description </b></font><br/><br/> |\n",
        "| :-- | :-- |\n",
        "| <br/><font size=\"3\"> <b>Project Title</b> </font>  <br/><br/>| <br/><font size=\"3\"> M2NIST Image Semantic Segmentation of Digits with FCN-8</font> <br/><br/>|\n",
        "| <br/><font size=\"3\"> <b>Project Type</b> </font> <br/><br/>| <br/><font size=\"3\">Image Segmentation (Semantic Segmenetation) </font> <br/><br/>|\n",
        "| <br/><font size=\"3\"><b>Project Objectives</b> </font>  <br/><br/>| <br/><font size=\"3\">1. Train a model to predict semantic segmentations of M2NIST images<br/>  2. Evaluate model performance using various metrics <br/>3. Predict masks/segmentations of M2NIST images using the model and compare predictions with ground-truth masks </font> <br/><br/>|\n",
        "| <br/><font size=\"3\"> <b>Dataset Overview </b> </font> <br/><br/>| <br/><font size=\"3\"> This dataset provides data images and labeled semantic segmentations captured via CARLA self-driving car simulator. The data which was generated as part of the 2018 Lyft Udacity Perception Challenge consists of **5000** images and their semantic segmentations. </font> <br/><br/>|\n",
        "| <br/><font size=\"3\"> <b> Model Evaluation Metrics</b> </font> <br/><br/>| <br/><font size=\"3\"> Model Accuracy, Mean Precision, Mean Recall, Mean Specificity, Mean Intersection over Union (mIoU), Mean True Detection Rate (TDR), Mean F1 Score/Dice Co-efficient (TDR) </font> <br/><br/>|\n",
        "| <font size=\"3\"> <b>Image Segmentation Model Type</b> </font> | <br/><font size=\"3\"> <a href=\"https://arxiv.org/abs/1411.4038\"> <b> FCN-8 Architecture</b></a> </font> <br/><br/>|\n",
        "| \n",
        "<br/>\n",
        "\n"
      ]
    },
    {
      "cell_type": "markdown",
      "metadata": {
        "id": "VxuFXdU6pXL4"
      },
      "source": [
        "## **Table of Contents**: \n",
        "<font size=\"3\">\n",
        "\n",
        "- [**1 - Import Required Packages**](#1)\n",
        "\n",
        "    \n",
        "- [**2 - Data Preparation**](##2)\n",
        "    - [2.1 Upload Kaggle API Authentication token\n",
        "](#2-1)\n",
        "    - [ 2.2 Download m2nist dataset from Kagle to local storage and unzip\n",
        "](#2-2)\n",
        "    - [ 2.3 Load the Data \n",
        "](#2-3)\n",
        "    - [ 2.4 Preprocess Data \n",
        "](#2-4)\n",
        "\n",
        "    \n",
        "- [**3. Examin the Dataset**](#3)\n",
        "    - [3.1. An Illustration of the annotation data arrangement](#3-1)\n",
        "    - [3.2. Dataset Visualization (1): Plot contents of a single dataset entry](#3-2) \n",
        "    - [3.3. Inspect the Dataset (2): Plot a batch of example images, along with their corresponding ground truth segmented data](#3-3)   \n",
        "\n",
        "    \n",
        "- [**4 - Define the Network's Model**](#4)\n",
        "    - [4.1. - The Encoder](#4-1)\n",
        "    - [4.2. - The Decoder](#4-2)\n",
        "    - [4.3. - Construct the Complete FCN8 Network](#4-3)\n",
        "\n",
        "    \n",
        "\n",
        "    \n",
        "- [**5 - Compile the Model**](#5)\n",
        "- [**6 - Model Training**](#6)\n",
        "- [**7 - Inference**](#7)\n",
        "- [**8 - Visualize inference results**](#8)\n",
        "- [**9 - Model Evaluation Metrics**](#9)\n",
        "\n",
        "\n",
        "    \n",
        "<font>"
      ]
    },
    {
      "cell_type": "markdown",
      "metadata": {
        "id": "MZ3g9dJxSxmN"
      },
      "source": [
        "<a name='1'></a>\n",
        "## 1. Import Required Packages\n"
      ]
    },
    {
      "cell_type": "code",
      "metadata": {
        "id": "aifz2907kxYN"
      },
      "source": [
        "import os\n",
        "import zipfile\n",
        "import PIL.Image, PIL.ImageFont, PIL.ImageDraw\n",
        "import numpy as np\n",
        "from matplotlib import pyplot as plt\n",
        "import tensorflow as tf\n",
        "import tensorflow_datasets as tfds\n",
        "from sklearn.model_selection import train_test_split\n",
        "import math"
      ],
      "execution_count": null,
      "outputs": []
    },
    {
      "cell_type": "markdown",
      "metadata": {
        "id": "7RYh6cCzXE6R"
      },
      "source": [
        "<a name='2'></a>\n",
        "## 2. Data Preparation\n",
        "\n",
        "<a name='2-1'></a>\n",
        "### 2.1 Upload Kaggle API Authentication token\n",
        " - (only If running in Colab platform)\n",
        "\n",
        "It is assumed token file named kaggle.json is available for upload.\n",
        "Click on `Choose Files` and upload it.\n",
        "\n",
        "Find more details on Kaggle API setup here <a target=\"_blank\" href=\"https://ronen-halevy.github.io/2021/11/15/kaggle-api-settings.html\">here.</a>.\n",
        "\n",
        "\n",
        "**Notes:**\n",
        "#### 1. API Authentication token is needed for kaggle dataset upload, which follows.\n",
        "#### 2.  If running in local platform, it is assumed the token is already arranged.\n",
        "#### 3. If running within Kaggle Kernel platform - a token is not needed.\n",
        " \n",
        "\n"
      ]
    },
    {
      "cell_type": "code",
      "metadata": {
        "colab": {
          "resources": {
            "http://localhost:8080/nbextensions/google.colab/files.js": {
              "data": "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",
              "headers": [
                [
                  "content-type",
                  "application/javascript"
                ]
              ],
              "ok": true,
              "status": 200,
              "status_text": ""
            }
          },
          "base_uri": "https://localhost:8080/",
          "height": 281
        },
        "id": "ROok0i9rMcu0",
        "outputId": "e1dba441-13f9-4b92-c65b-19991b6cf660"
      },
      "source": [
        "# if in colab platform - upload kaggle authentication file\n",
        "if 'google.colab' in str(get_ipython()):\n",
        "  from google.colab import files\n",
        "  from pathlib import Path\n",
        "  !pip install kaggle\n",
        "  home = str(Path.home())\n",
        "  dir='.kaggle'\n",
        "  file = 'kaggle.json'\n",
        "  kpath = \"{home}/{dir}/\".format(home=home, dir=dir)\n",
        "  try:\n",
        "    filelist=os.listdir(kpath)\n",
        "  except Exception as e:\n",
        "    !mkdir -p ~/.kaggle\n",
        "\n",
        "  if file not in os.listdir(kpath):\n",
        "    print('Setup Kaggle API: Upload kaggle.json')\n",
        "    uploaded = files.upload()\n",
        "    !mv kaggle.json ~/.kaggle/ && chmod 600 ~/.kaggle/kaggle.json\n"
      ],
      "execution_count": null,
      "outputs": [
        {
          "name": "stdout",
          "output_type": "stream",
          "text": [
            "Requirement already satisfied: kaggle in /usr/local/lib/python3.7/dist-packages (1.5.12)\n",
            "Requirement already satisfied: urllib3 in /usr/local/lib/python3.7/dist-packages (from kaggle) (1.24.3)\n",
            "Requirement already satisfied: python-dateutil in /usr/local/lib/python3.7/dist-packages (from kaggle) (2.8.2)\n",
            "Requirement already satisfied: python-slugify in /usr/local/lib/python3.7/dist-packages (from kaggle) (5.0.2)\n",
            "Requirement already satisfied: tqdm in /usr/local/lib/python3.7/dist-packages (from kaggle) (4.62.3)\n",
            "Requirement already satisfied: requests in /usr/local/lib/python3.7/dist-packages (from kaggle) (2.23.0)\n",
            "Requirement already satisfied: six>=1.10 in /usr/local/lib/python3.7/dist-packages (from kaggle) (1.15.0)\n",
            "Requirement already satisfied: certifi in /usr/local/lib/python3.7/dist-packages (from kaggle) (2021.10.8)\n",
            "Requirement already satisfied: text-unidecode>=1.3 in /usr/local/lib/python3.7/dist-packages (from python-slugify->kaggle) (1.3)\n",
            "Requirement already satisfied: idna<3,>=2.5 in /usr/local/lib/python3.7/dist-packages (from requests->kaggle) (2.10)\n",
            "Requirement already satisfied: chardet<4,>=3.0.2 in /usr/local/lib/python3.7/dist-packages (from requests->kaggle) (3.0.4)\n",
            "Setup Kaggle API: Upload kaggle.json\n"
          ]
        },
        {
          "data": {
            "text/html": [
              "\n",
              "     <input type=\"file\" id=\"files-ebd066fd-6db0-4c75-ad7c-2b206312d325\" name=\"files[]\" multiple disabled\n",
              "        style=\"border:none\" />\n",
              "     <output id=\"result-ebd066fd-6db0-4c75-ad7c-2b206312d325\">\n",
              "      Upload widget is only available when the cell has been executed in the\n",
              "      current browser session. Please rerun this cell to enable.\n",
              "      </output>\n",
              "      <script src=\"/nbextensions/google.colab/files.js\"></script> "
            ],
            "text/plain": [
              "<IPython.core.display.HTML object>"
            ]
          },
          "metadata": {},
          "output_type": "display_data"
        },
        {
          "name": "stdout",
          "output_type": "stream",
          "text": [
            "Saving kaggle.json to kaggle.json\n"
          ]
        }
      ]
    },
    {
      "cell_type": "markdown",
      "metadata": {
        "id": "HBFltVh_fthJ"
      },
      "source": [
        "\n",
        "\n"
      ]
    },
    {
      "cell_type": "markdown",
      "metadata": {
        "id": "opQH5ueNURCg"
      },
      "source": [
        "<a name='2-2'></a>\n",
        "### 2.2 Download m2nist dataset from Kagle to local storage and unzip. \n",
        "If running in kaggle kernel platform, dataset is available, no need to upload.\n",
        "\n",
        "\n",
        "#### Data is arranged as 2 numpy arrays files (.npy):\n",
        "\n",
        "1. **combined.npy** holds the image files containing the multiple MNIST digits. Each image size is **64 x 84** (height x width).\n",
        "\n",
        "2. **segmented.npy** holds the segmentation masks. Size is also  **64 x 84**.\n"
      ]
    },
    {
      "cell_type": "code",
      "metadata": {
        "colab": {
          "base_uri": "https://localhost:8080/"
        },
        "id": "zgCaXaHMbZaE",
        "outputId": "5e61dea5-3052-49dc-e096-1dbdc40ba1fd"
      },
      "source": [
        "dataset_dir = ''\n",
        "if not os.environ.get('KAGGLE_KERNEL_RUN_TYPE',''):\n",
        "    import zipfile\n",
        "    !kaggle datasets download -d farhanhubble/multimnistm2nist\n",
        "    local_zip = 'multimnistm2nist.zip'\n",
        "    zip_ref = zipfile.ZipFile(local_zip, 'r')\n",
        "    dataset_dir = '/tmp/'\n",
        "    zip_ref.extractall(dataset_dir)\n",
        "    zip_ref.close()\n",
        "else:\n",
        "    dataset_dir = '/kaggle/input/multimnistm2nist'"
      ],
      "execution_count": null,
      "outputs": [
        {
          "name": "stdout",
          "output_type": "stream",
          "text": [
            "Downloading multimnistm2nist.zip to /content\n",
            " 84% 14.0M/16.6M [00:00<00:00, 33.5MB/s]\n",
            "100% 16.6M/16.6M [00:00<00:00, 55.4MB/s]\n"
          ]
        }
      ]
    },
    {
      "cell_type": "markdown",
      "metadata": {
        "id": "n5twf2Ks06iL"
      },
      "source": [
        "<a name='2-3'></a>\n",
        "### 2.3 Load the Data\n",
        "\n",
        "Reshape data, and the channel axis, as required by tensorflow training process.\n",
        "\n",
        "Divide data by 255, normalizing values to [0, 1]\n",
        "\n",
        "Split dataset to Train and Test parts. (Train section will later be split farther to Train and Validation)\n",
        "\n"
      ]
    },
    {
      "cell_type": "code",
      "metadata": {
        "id": "5in6nUoQVugw"
      },
      "source": [
        "segmented = np.load('{dataset_dir}/segmented.npy'.format(dataset_dir=dataset_dir))\n",
        "_, height, width, n_classes = segmented.shape\n",
        "combined = np.load('{dataset_dir}/combined.npy'.format(dataset_dir=dataset_dir)).reshape((-1, height, width, 1))/255\n",
        "\n",
        "combined, test_images, segmented, test_annotations = train_test_split(combined, segmented, test_size=0.1, shuffle=True)"
      ],
      "execution_count": null,
      "outputs": []
    },
    {
      "cell_type": "markdown",
      "metadata": {
        "id": "mBtiPuFgKBMO"
      },
      "source": [
        "<a name='2-4'></a>\n",
        "### 2.4 Preprocess Data\n",
        "Generate batches of tensor image data with real-time data augmentation.\n",
        "\n"
      ]
    },
    {
      "cell_type": "code",
      "metadata": {
        "id": "aEiNVm6KJ-YZ"
      },
      "source": [
        "datagen = tf.keras.preprocessing.image.ImageDataGenerator(rotation_range=10.0,\n",
        "                                                       width_shift_range=2,\n",
        "                                                       height_shift_range=2,\n",
        "                                                       shear_range=0.0,\n",
        "                                                       zoom_range=0.1,\n",
        "                                                       data_format='channels_last',\n",
        "                                                       validation_split=0.1\n",
        "                                                      )\n"
      ],
      "execution_count": null,
      "outputs": []
    },
    {
      "cell_type": "markdown",
      "metadata": {
        "id": "j9pE-nOiFfgb"
      },
      "source": [
        "<a name='3'></a>\n",
        "\n",
        "## 3. Examin the Dataset\n",
        "\n",
        "The dataset consists of 2 subsets, stored as 2 numpy arrays:\n",
        "1. The image data: this numpy array, named `combined`, holds the data example images. Each image consists of 2-3 digits.\n",
        "2. The anottations data: this numpy array, named `segmented`, holds the `ground truth` for the segmentation results, corresponding to the example images. Each entry of the `segmented` array consists of 11 channels, where each channel corresponds to one of the 11 supported segments: digits 0-9, and blanck pixels semantic segment.\n",
        "\n",
        "An example which illustrates the `segmented` data arrangement follows.\n",
        "\n",
        "\n",
        "\n",
        " \n"
      ]
    },
    {
      "cell_type": "markdown",
      "metadata": {
        "id": "ACZHMXd-85fz"
      },
      "source": [
        "<a name='3-1'></a>\n",
        "### 3.1 An Illustration of the annotation data arrangement\n",
        " \n",
        "Suppose the dataset contains digit images of size 8 x 9 pixels.\n",
        "Let's present such an image, with digits `1` and `0` like so:\n",
        "\n",
        "<img src='https://ronen-halevy.github.io/assets/images/image-segmentation/m2nist_image_illustration-1.drawio.png' alt='fcn-9'>\n",
        "\n",
        "The 3 expected segments are clearly the `1`, the `0` and the background as depicted in the next image:\n",
        "\n",
        "<img src='https://ronen-halevy.github.io/assets/images/image-segmentation/m2nist_image_illustration-1-s.drawio.png' alt='fcn-9'>\n",
        "\n",
        "\n",
        "Goal is to set semantic segmentation classification per-pixel, i.e. specify pereach pixel, which segment it belongs to- either one of the 10 digits, or to the background.\n",
        "\n",
        "Accordingly, the network's output layer contains 11 classes, each class corresponds to one of the 11 segments. Per each class, the pixels which correspond to the related segment are `1`, while otherwise pixes are `0`\n",
        "\n",
        "Following sketches illustrate the expected classification outputs of the 11 classes given above example image as input data. \n",
        "\n",
        "\n",
        "\n",
        "\n",
        "\n",
        "\n",
        "Class 1             |  Class 2  |  **Class 3- Class 10** |  **Class 11**\n",
        ":-------------------------:|:-------------------------: |:-------------------------: |:-------------------------:\n",
        "![](https://ronen-halevy.github.io/assets/images/image-segmentation/m2nist_image_illustration-2.drawio.png)  |  ![](https://ronen-halevy.github.io/assets/images/image-segmentation/m2nist_image_illustration-3.drawio.png)  |  ![](https://ronen-halevy.github.io/assets/images/image-segmentation/m2nist_image_illustration-4.drawio.png)  |  ![](https://ronen-halevy.github.io/assets/images/image-segmentation/m2nist_image_illustration-5.drawio.png)\n",
        "\n",
        "\n",
        "**Class 1** Corresponds to digit 0 - the pixels of the `0` segment are set to `1`.\n",
        "\n",
        "**Class 2** Corresponds to digit 1 - the pixels of the `1` segment are set to `1`.\n",
        "\n",
        "**Class 3-10** Correspond to digits 2-9 respectively - no pixels are assigned to these classes.\n",
        "\n",
        "**Class 11** Corresponds to background digits - all background digits are assigned to this class.\n",
        "\n",
        "\n"
      ]
    },
    {
      "cell_type": "markdown",
      "metadata": {
        "id": "GfHJEOS1yHWr"
      },
      "source": [
        "<a name='3-2'></a>\n",
        "### 3.2 Dataset Visualization (1): Plot contents of a single dataset entry\n",
        "Present a randomly selected input image with it's corresponding 11 channel annotations.\n",
        "\n",
        "Note that 3 segments are formed - for digits 2, 3 and the background pixels."
      ]
    },
    {
      "cell_type": "code",
      "metadata": {
        "colab": {
          "base_uri": "https://localhost:8080/",
          "height": 290
        },
        "id": "-lZ52FCRYZpu",
        "outputId": "385fc8ee-ab2a-40a8-faa7-25455b2c4e06"
      },
      "source": [
        "\n",
        "rand_index = np.random.randint(0,len(combined))\n",
        "c,s = combined[rand_index], segmented[rand_index]\n",
        "c=np.squeeze(c, axis=None)\n",
        "plt.figure(figsize=(25,5))\n",
        "\n",
        "plt.subplot(2, s.shape[2]+1, 1)\n",
        "plt.title('Example Image')\n",
        "plt.imshow(c)\n",
        "\n",
        "for idx in range(s.shape[2]):\n",
        "  plt.subplot(2, s.shape[2], s.shape[2]+idx+1)\n",
        "  plt.title('Segmented #{}'.format(idx+1))\n",
        "  plt.imshow(s[:,:,idx])\n"
      ],
      "execution_count": null,
      "outputs": [
        {
          "data": {
            "image/png": "[encoded data removed]",
            "text/plain": [
              "<Figure size 1800x360 with 12 Axes>"
            ]
          },
          "metadata": {},
          "output_type": "display_data"
        }
      ]
    },
    {
      "cell_type": "markdown",
      "metadata": {
        "id": "NSCpcM9nF7IM"
      },
      "source": [
        "<a name='3-3'></a>\n",
        "### 3.3 Inspect the Dataset (2): Plot a batch of example images, along with their corresponding `ground truth` segmented data.\n",
        " \n",
        "Now let's take a look at a set of images.\n",
        "First row shows the listed images, while the second row presents the corresponding anottations, where all channels are integrated to a single channel (np.argmax composes the resultant image by selecting the maximal value pixels amongs all 11 channel)."
      ]
    },
    {
      "cell_type": "code",
      "metadata": {
        "colab": {
          "base_uri": "https://localhost:8080/",
          "height": 272
        },
        "id": "2x7q1LLkF6ST",
        "outputId": "31fa03b9-00c1-4768-c59b-fcabbcfea1af"
      },
      "source": [
        "plt.figure(figsize=(20, 5))\n",
        "\n",
        "N = min(10, segmented.shape[0])\n",
        "for idx in range(N):\n",
        "  plt.yticks([])\n",
        "  plt.xticks([])\n",
        "  \n",
        "  plt.subplot(2, N, idx+1)\n",
        "  c=np.squeeze(c, axis=None)\n",
        "  plt.imshow(np.squeeze(combined[idx]))\n",
        "  plt.subplot(2, N, N+idx+1)\n",
        "  plt.imshow(np.argmax(segmented[idx], axis=2))"
      ],
      "execution_count": null,
      "outputs": [
        {
          "data": {
            "image/png": "[encoded data removed]",
            "text/plain": [
              "<Figure size 1440x360 with 20 Axes>"
            ]
          },
          "metadata": {},
          "output_type": "display_data"
        }
      ]
    },
    {
      "cell_type": "markdown",
      "metadata": {
        "id": "_GMjaQBCRCID"
      },
      "source": [
        "<a name='4'></a>\n",
        "## 4. Define the Network's Model\n",
        "Here we use FCN-8, as presented in <a href=\"https://arxiv.org/abs/1411.4038\">\"Fully Convolutional Networks for Semantic Segmentation\" </a> by Long, Shelhamer and Darrell.\n",
        "\n",
        "***FCN-8 Block Diagram***\n",
        "\n",
        "\n",
        "<img src='https://ronen-halevy.github.io/assets/images/image-segmentation/fcn-8.drawio.png' alt='fcn-9'>\n",
        "\n",
        "\n",
        "FCN-8 consists of a 5 layered encoder which is resposible for the feature detection, followed by a decoder which expands the features back to it's original side, upsampling using Conv2D-Transpose. \n",
        "To preserve lower level features, `Pool 3` and `Pool 4` layers outputs are accumulated with the final layer's output, (aka skips), as depicted in the block diagram.\n",
        "\n",
        "Let's construct the encoder and decoder!\n"
      ]
    },
    {
      "cell_type": "markdown",
      "metadata": {
        "id": "QFv2k8xabRb8"
      },
      "source": [
        "<a name='4-1'></a>\n",
        "### 4.1 The Encoder \n",
        "\n",
        "Each encoder's stage consists of:\n",
        "\n",
        "- Conv2D\n",
        "\n",
        "- LeakyReLU\n",
        "\n",
        "- Conv2D\n",
        "\n",
        "- LeakyReLU\n",
        "\n",
        "- MaxPooling2D\n",
        "\n",
        "- BatchNormalization\n",
        "\n",
        "\n",
        "\n"
      ]
    },
    {
      "cell_type": "code",
      "metadata": {
        "id": "F2VNB99LRwQr"
      },
      "source": [
        "IMAGE_ORDERING = 'channels_last'\n",
        "def fcn8_downsampling(input_height=64, input_width=84):\n",
        "    inputs=tf.keras.layers.Input((input_height, input_width,1))\n",
        "  \n",
        "    # Resize images so that downsampling division results will be integers - i.e. dimensions should be divisible by 2**5.\n",
        "    \n",
        "    zero_padding_height = math.ceil(input_height/32)*32 - input_height\n",
        "    zero_padding_width = math.ceil(input_width/32)*32 - input_width\n",
        "    \n",
        "    x=tf.keras.layers.ZeroPadding2D(((0, 0), (zero_padding_height, zero_padding_width)))(inputs)\n",
        "    layers = []\n",
        "\n",
        "    # Build the encoder in a loop, running on number of filters. Each stage\n",
        "    for filters in [32,64,128,256,256]:\n",
        "        x = tf.keras.layers.Conv2D(filters=filters, kernel_size=3, strides=1, padding='same', data_format=IMAGE_ORDERING)(x)\n",
        "        x = tf.keras.layers.LeakyReLU()(x)\n",
        "        x = tf.keras.layers.Conv2D(filters=filters, kernel_size=3, strides=1, padding='same', data_format=IMAGE_ORDERING)(x)\n",
        "        x = tf.keras.layers.LeakyReLU()(x)\n",
        "        x = tf.keras.layers.MaxPooling2D(pool_size=2, strides=2)(x)\n",
        "        x = tf.keras.layers.BatchNormalization()(x)\n",
        "        layers.append(x)\n",
        "   \n",
        "    # We add an extra set of convolutions - no pooling attached.\n",
        "  \n",
        "    for idx, params in enumerate([{'f': 512, 'k': 7} ,{'f': 512, 'k': 1}]):\n",
        "        x = tf.keras.layers.Conv2D(filters=params['f'], kernel_size=params['k'] ,strides=1 , activation='relu' , padding='same', name=\"conv{i}\".format(i=idx), data_format=IMAGE_ORDERING)(x)\n",
        "        x = tf.keras.layers.Dropout(0.5)(x)\n",
        "\n",
        "\n",
        "    x = tf.keras.layers.Conv2D(n_classes,  (1, 1), activation='relu' , padding='same', data_format=IMAGE_ORDERING)(x)\n",
        "  \n",
        "    layers.pop()\n",
        "    layers.append(x)\n",
        "\n",
        "    return layers, inputs\n",
        "\n",
        "\n"
      ],
      "execution_count": null,
      "outputs": []
    },
    {
      "cell_type": "markdown",
      "metadata": {
        "id": "qiN6FTJ8dVRk"
      },
      "source": [
        "<a name='4-2'></a>\n",
        "### 4.2 The Decoder\n",
        "\n",
        "- This code implements the Decoder, as depicted in the above block diagram. \n",
        "- Input `conv` is a list with encoder's 5 layers outputs. `n_classes` is the number of output classes, 11 in current case.\n",
        "- Number of filters for all layers is n_classes - which is the number of semantic segments.\n",
        "- Output stage is a `softmax`, which normalizes the  output to probability distribution."
      ]
    },
    {
      "cell_type": "code",
      "metadata": {
        "id": "XPeEr9WydXkQ"
      },
      "source": [
        "def fcn8_upsampling(convs, n_classes):\n",
        "    _,_,f3,f4,f5 = convs\n",
        "    x = f5\n",
        "    \n",
        "    for filters, x2 in [(n_classes, f4),(n_classes, f3)]:\n",
        "        x = tf.keras.layers.Conv2DTranspose(n_classes , kernel_size=(4,4) ,  strides=(2,2) , use_bias=False )(x)\n",
        "        x = tf.keras.layers.Cropping2D(cropping=(1,1))(x)\n",
        "\n",
        "        x2 = ( tf.keras.layers.Conv2D(n_classes , kernel_size=( 1 , 1 ) , activation='relu' , padding='same'))(x2)\n",
        "        x = tf.keras.layers.Add()([x, x2])\n",
        "\n",
        "    # upsample up to the size of the original image\n",
        "    x = tf.keras.layers.Conv2DTranspose(n_classes , kernel_size=(8,8) ,  strides=(8,8) , use_bias=False )(x)\n",
        "    x = tf.keras.layers.Cropping2D(((0, 0), (0, 96-width)))(x)\n",
        "\n",
        "    # append a sigmoid activation\n",
        "    x = (tf.keras.layers.Activation('softmax'))(x)\n",
        "    return x"
      ],
      "execution_count": null,
      "outputs": []
    },
    {
      "cell_type": "markdown",
      "metadata": {
        "id": "fPadyGalx9dz"
      },
      "source": [
        "<a name='4-3'></a>\n",
        "### 4.3 Construct the Complete FCN8 Network"
      ]
    },
    {
      "cell_type": "code",
      "metadata": {
        "colab": {
          "base_uri": "https://localhost:8080/"
        },
        "id": "c39Hwqst5_Im",
        "outputId": "312090b4-e0d7-49e6-b06a-854de7e18c9a"
      },
      "source": [
        "convs, inputs  = fcn8_downsampling()\n",
        "dec_op = fcn8_upsampling(convs, n_classes)\n",
        "model = tf.keras.Model(inputs = inputs, outputs = dec_op)\n",
        "print(model.summary())\n"
      ],
      "execution_count": null,
      "outputs": [
        {
          "name": "stdout",
          "output_type": "stream",
          "text": [
            "Model: \"model\"\n",
            "__________________________________________________________________________________________________\n",
            " Layer (type)                   Output Shape         Param #     Connected to                     \n",
            "==================================================================================================\n",
            " input_1 (InputLayer)           [(None, 64, 84, 1)]  0           []                               \n",
            "                                                                                                  \n",
            " zero_padding2d (ZeroPadding2D)  (None, 64, 96, 1)   0           ['input_1[0][0]']                \n",
            "                                                                                                  \n",
            " conv2d (Conv2D)                (None, 64, 96, 32)   320         ['zero_padding2d[0][0]']         \n",
            "                                                                                                  \n",
            " leaky_re_lu (LeakyReLU)        (None, 64, 96, 32)   0           ['conv2d[0][0]']                 \n",
            "                                                                                                  \n",
            " conv2d_1 (Conv2D)              (None, 64, 96, 32)   9248        ['leaky_re_lu[0][0]']            \n",
            "                                                                                                  \n",
            " leaky_re_lu_1 (LeakyReLU)      (None, 64, 96, 32)   0           ['conv2d_1[0][0]']               \n",
            "                                                                                                  \n",
            " max_pooling2d (MaxPooling2D)   (None, 32, 48, 32)   0           ['leaky_re_lu_1[0][0]']          \n",
            "                                                                                                  \n",
            " batch_normalization (BatchNorm  (None, 32, 48, 32)  128         ['max_pooling2d[0][0]']          \n",
            " alization)                                                                                       \n",
            "                                                                                                  \n",
            " conv2d_2 (Conv2D)              (None, 32, 48, 64)   18496       ['batch_normalization[0][0]']    \n",
            "                                                                                                  \n",
            " leaky_re_lu_2 (LeakyReLU)      (None, 32, 48, 64)   0           ['conv2d_2[0][0]']               \n",
            "                                                                                                  \n",
            " conv2d_3 (Conv2D)              (None, 32, 48, 64)   36928       ['leaky_re_lu_2[0][0]']          \n",
            "                                                                                                  \n",
            " leaky_re_lu_3 (LeakyReLU)      (None, 32, 48, 64)   0           ['conv2d_3[0][0]']               \n",
            "                                                                                                  \n",
            " max_pooling2d_1 (MaxPooling2D)  (None, 16, 24, 64)  0           ['leaky_re_lu_3[0][0]']          \n",
            "                                                                                                  \n",
            " batch_normalization_1 (BatchNo  (None, 16, 24, 64)  256         ['max_pooling2d_1[0][0]']        \n",
            " rmalization)                                                                                     \n",
            "                                                                                                  \n",
            " conv2d_4 (Conv2D)              (None, 16, 24, 128)  73856       ['batch_normalization_1[0][0]']  \n",
            "                                                                                                  \n",
            " leaky_re_lu_4 (LeakyReLU)      (None, 16, 24, 128)  0           ['conv2d_4[0][0]']               \n",
            "                                                                                                  \n",
            " conv2d_5 (Conv2D)              (None, 16, 24, 128)  147584      ['leaky_re_lu_4[0][0]']          \n",
            "                                                                                                  \n",
            " leaky_re_lu_5 (LeakyReLU)      (None, 16, 24, 128)  0           ['conv2d_5[0][0]']               \n",
            "                                                                                                  \n",
            " max_pooling2d_2 (MaxPooling2D)  (None, 8, 12, 128)  0           ['leaky_re_lu_5[0][0]']          \n",
            "                                                                                                  \n",
            " batch_normalization_2 (BatchNo  (None, 8, 12, 128)  512         ['max_pooling2d_2[0][0]']        \n",
            " rmalization)                                                                                     \n",
            "                                                                                                  \n",
            " conv2d_6 (Conv2D)              (None, 8, 12, 256)   295168      ['batch_normalization_2[0][0]']  \n",
            "                                                                                                  \n",
            " leaky_re_lu_6 (LeakyReLU)      (None, 8, 12, 256)   0           ['conv2d_6[0][0]']               \n",
            "                                                                                                  \n",
            " conv2d_7 (Conv2D)              (None, 8, 12, 256)   590080      ['leaky_re_lu_6[0][0]']          \n",
            "                                                                                                  \n",
            " leaky_re_lu_7 (LeakyReLU)      (None, 8, 12, 256)   0           ['conv2d_7[0][0]']               \n",
            "                                                                                                  \n",
            " max_pooling2d_3 (MaxPooling2D)  (None, 4, 6, 256)   0           ['leaky_re_lu_7[0][0]']          \n",
            "                                                                                                  \n",
            " batch_normalization_3 (BatchNo  (None, 4, 6, 256)   1024        ['max_pooling2d_3[0][0]']        \n",
            " rmalization)                                                                                     \n",
            "                                                                                                  \n",
            " conv2d_8 (Conv2D)              (None, 4, 6, 256)    590080      ['batch_normalization_3[0][0]']  \n",
            "                                                                                                  \n",
            " leaky_re_lu_8 (LeakyReLU)      (None, 4, 6, 256)    0           ['conv2d_8[0][0]']               \n",
            "                                                                                                  \n",
            " conv2d_9 (Conv2D)              (None, 4, 6, 256)    590080      ['leaky_re_lu_8[0][0]']          \n",
            "                                                                                                  \n",
            " leaky_re_lu_9 (LeakyReLU)      (None, 4, 6, 256)    0           ['conv2d_9[0][0]']               \n",
            "                                                                                                  \n",
            " max_pooling2d_4 (MaxPooling2D)  (None, 2, 3, 256)   0           ['leaky_re_lu_9[0][0]']          \n",
            "                                                                                                  \n",
            " batch_normalization_4 (BatchNo  (None, 2, 3, 256)   1024        ['max_pooling2d_4[0][0]']        \n",
            " rmalization)                                                                                     \n",
            "                                                                                                  \n",
            " conv0 (Conv2D)                 (None, 2, 3, 512)    6423040     ['batch_normalization_4[0][0]']  \n",
            "                                                                                                  \n",
            " dropout (Dropout)              (None, 2, 3, 512)    0           ['conv0[0][0]']                  \n",
            "                                                                                                  \n",
            " conv1 (Conv2D)                 (None, 2, 3, 512)    262656      ['dropout[0][0]']                \n",
            "                                                                                                  \n",
            " dropout_1 (Dropout)            (None, 2, 3, 512)    0           ['conv1[0][0]']                  \n",
            "                                                                                                  \n",
            " conv2d_10 (Conv2D)             (None, 2, 3, 11)     5643        ['dropout_1[0][0]']              \n",
            "                                                                                                  \n",
            " conv2d_transpose (Conv2DTransp  (None, 6, 8, 11)    1936        ['conv2d_10[0][0]']              \n",
            " ose)                                                                                             \n",
            "                                                                                                  \n",
            " cropping2d (Cropping2D)        (None, 4, 6, 11)     0           ['conv2d_transpose[0][0]']       \n",
            "                                                                                                  \n",
            " conv2d_11 (Conv2D)             (None, 4, 6, 11)     2827        ['batch_normalization_3[0][0]']  \n",
            "                                                                                                  \n",
            " add (Add)                      (None, 4, 6, 11)     0           ['cropping2d[0][0]',             \n",
            "                                                                  'conv2d_11[0][0]']              \n",
            "                                                                                                  \n",
            " conv2d_transpose_1 (Conv2DTran  (None, 10, 14, 11)  1936        ['add[0][0]']                    \n",
            " spose)                                                                                           \n",
            "                                                                                                  \n",
            " cropping2d_1 (Cropping2D)      (None, 8, 12, 11)    0           ['conv2d_transpose_1[0][0]']     \n",
            "                                                                                                  \n",
            " conv2d_12 (Conv2D)             (None, 8, 12, 11)    1419        ['batch_normalization_2[0][0]']  \n",
            "                                                                                                  \n",
            " add_1 (Add)                    (None, 8, 12, 11)    0           ['cropping2d_1[0][0]',           \n",
            "                                                                  'conv2d_12[0][0]']              \n",
            "                                                                                                  \n",
            " conv2d_transpose_2 (Conv2DTran  (None, 64, 96, 11)  7744        ['add_1[0][0]']                  \n",
            " spose)                                                                                           \n",
            "                                                                                                  \n",
            " cropping2d_2 (Cropping2D)      (None, 64, 84, 11)   0           ['conv2d_transpose_2[0][0]']     \n",
            "                                                                                                  \n",
            " activation (Activation)        (None, 64, 84, 11)   0           ['cropping2d_2[0][0]']           \n",
            "                                                                                                  \n",
            "==================================================================================================\n",
            "Total params: 9,061,985\n",
            "Trainable params: 9,060,513\n",
            "Non-trainable params: 1,472\n",
            "__________________________________________________________________________________________________\n",
            "None\n"
          ]
        }
      ]
    },
    {
      "cell_type": "markdown",
      "metadata": {
        "id": "wAAXygZtbZmu"
      },
      "source": [
        "<a name='5'></a>\n",
        "## 5. Compile the Model"
      ]
    },
    {
      "cell_type": "code",
      "metadata": {
        "id": "xw0oLFRUx9d0"
      },
      "source": [
        "model.compile(loss='categorical_crossentropy',\n",
        "              optimizer=tf.keras.optimizers.Adam(0.001),\n",
        "              metrics=['accuracy'])"
      ],
      "execution_count": null,
      "outputs": []
    },
    {
      "cell_type": "markdown",
      "metadata": {
        "id": "sC-9m1R_5tjV"
      },
      "source": [
        "<a name='6'></a>\n",
        "### 6. Model Training## \n",
        "\n",
        "Dataset is arranged as an ImageDataGenerator, which generates batches of tensor image data with real-time data sugmentation.\n",
        "Validation split is 0.1 (while training is 0.9)."
      ]
    },
    {
      "cell_type": "code",
      "metadata": {
        "colab": {
          "background_save": true,
          "base_uri": "https://localhost:8080/"
        },
        "id": "cVJeBA397mFf",
        "outputId": "6d768d76-1847-411d-c769-525d7d96f7d8"
      },
      "source": [
        "epochs = 70\n",
        "batch_size = 50\n",
        "\n",
        "model.fit_generator(zip(datagen.flow(combined, batch_size=batch_size, subset='training', seed=1), datagen.flow(segmented, batch_size=batch_size, subset='training', seed=1)),\n",
        "                    epochs=epochs, \n",
        "                    steps_per_epoch = len(combined)//batch_size,\n",
        "                    validation_data=zip(datagen.flow(combined, batch_size=batch_size, subset='validation', seed=1), datagen.flow(segmented, batch_size=batch_size, subset='validation', seed=1)),\n",
        "                    validation_steps=50,\n",
        "                    verbose=2\n",
        ")"
      ],
      "execution_count": null,
      "outputs": [
        {
          "name": "stderr",
          "output_type": "stream",
          "text": [
            "/usr/local/lib/python3.7/dist-packages/keras_preprocessing/image/numpy_array_iterator.py:136: UserWarning: NumpyArrayIterator is set to use the data format convention \"channels_last\" (channels on axis 3), i.e. expected either 1, 3, or 4 channels on axis 3. However, it was passed an array with shape (4050, 64, 84, 11) (11 channels).\n",
            "  str(self.x.shape[channels_axis]) + ' channels).')\n",
            "/usr/local/lib/python3.7/dist-packages/keras_preprocessing/image/numpy_array_iterator.py:136: UserWarning: NumpyArrayIterator is set to use the data format convention \"channels_last\" (channels on axis 3), i.e. expected either 1, 3, or 4 channels on axis 3. However, it was passed an array with shape (450, 64, 84, 11) (11 channels).\n",
            "  str(self.x.shape[channels_axis]) + ' channels).')\n",
            "/usr/local/lib/python3.7/dist-packages/ipykernel_launcher.py:19: UserWarning: `Model.fit_generator` is deprecated and will be removed in a future version. Please use `Model.fit`, which supports generators.\n"
          ]
        },
        {
          "name": "stdout",
          "output_type": "stream",
          "text": [
            "Epoch 1/30\n",
            "90/90 - 312s - loss: 0.5892 - accuracy: 0.8284 - val_loss: 0.6403 - val_accuracy: 0.9419 - 312s/epoch - 3s/step\n",
            "Epoch 2/30\n",
            "90/90 - 313s - loss: 0.2223 - accuracy: 0.9422 - val_loss: 0.4879 - val_accuracy: 0.9420 - 313s/epoch - 3s/step\n",
            "Epoch 3/30\n",
            "90/90 - 319s - loss: 0.1902 - accuracy: 0.9437 - val_loss: 0.2955 - val_accuracy: 0.9418 - 319s/epoch - 4s/step\n",
            "Epoch 4/30\n",
            "90/90 - 322s - loss: 0.1612 - accuracy: 0.9470 - val_loss: 0.2229 - val_accuracy: 0.9420 - 322s/epoch - 4s/step\n",
            "Epoch 5/30\n",
            "90/90 - 330s - loss: 0.1289 - accuracy: 0.9555 - val_loss: 0.1999 - val_accuracy: 0.9429 - 330s/epoch - 4s/step\n",
            "Epoch 6/30\n",
            "90/90 - 334s - loss: 0.1001 - accuracy: 0.9646 - val_loss: 0.1100 - val_accuracy: 0.9597 - 334s/epoch - 4s/step\n",
            "Epoch 7/30\n",
            "90/90 - 328s - loss: 0.0812 - accuracy: 0.9703 - val_loss: 0.0978 - val_accuracy: 0.9641 - 328s/epoch - 4s/step\n",
            "Epoch 8/30\n",
            "90/90 - 319s - loss: 0.0727 - accuracy: 0.9726 - val_loss: 0.0794 - val_accuracy: 0.9710 - 319s/epoch - 4s/step\n",
            "Epoch 9/30\n",
            "90/90 - 320s - loss: 0.0677 - accuracy: 0.9741 - val_loss: 0.0675 - val_accuracy: 0.9747 - 320s/epoch - 4s/step\n",
            "Epoch 10/30\n",
            "90/90 - 322s - loss: 0.0632 - accuracy: 0.9757 - val_loss: 0.0662 - val_accuracy: 0.9750 - 322s/epoch - 4s/step\n",
            "Epoch 11/30\n",
            "90/90 - 323s - loss: 0.0604 - accuracy: 0.9766 - val_loss: 0.0660 - val_accuracy: 0.9757 - 323s/epoch - 4s/step\n",
            "Epoch 12/30\n",
            "90/90 - 323s - loss: 0.0579 - accuracy: 0.9776 - val_loss: 0.0600 - val_accuracy: 0.9773 - 323s/epoch - 4s/step\n",
            "Epoch 13/30\n",
            "90/90 - 320s - loss: 0.0565 - accuracy: 0.9781 - val_loss: 0.0611 - val_accuracy: 0.9774 - 320s/epoch - 4s/step\n",
            "Epoch 14/30\n",
            "90/90 - 321s - loss: 0.0539 - accuracy: 0.9791 - val_loss: 0.0575 - val_accuracy: 0.9786 - 321s/epoch - 4s/step\n",
            "Epoch 15/30\n",
            "90/90 - 317s - loss: 0.0528 - accuracy: 0.9796 - val_loss: 0.0539 - val_accuracy: 0.9796 - 317s/epoch - 4s/step\n",
            "Epoch 16/30\n",
            "90/90 - 315s - loss: 0.0508 - accuracy: 0.9804 - val_loss: 0.0567 - val_accuracy: 0.9790 - 315s/epoch - 3s/step\n",
            "Epoch 17/30\n",
            "90/90 - 320s - loss: 0.0503 - accuracy: 0.9808 - val_loss: 0.0788 - val_accuracy: 0.9743 - 320s/epoch - 4s/step\n",
            "Epoch 18/30\n",
            "90/90 - 319s - loss: 0.0487 - accuracy: 0.9815 - val_loss: 0.0496 - val_accuracy: 0.9814 - 319s/epoch - 4s/step\n",
            "Epoch 19/30\n",
            "90/90 - 315s - loss: 0.0477 - accuracy: 0.9820 - val_loss: 0.0674 - val_accuracy: 0.9767 - 315s/epoch - 3s/step\n",
            "Epoch 20/30\n",
            "90/90 - 316s - loss: 0.0476 - accuracy: 0.9821 - val_loss: 0.0510 - val_accuracy: 0.9814 - 316s/epoch - 4s/step\n",
            "Epoch 21/30\n",
            "90/90 - 316s - loss: 0.0458 - accuracy: 0.9830 - val_loss: 0.0475 - val_accuracy: 0.9828 - 316s/epoch - 4s/step\n",
            "Epoch 22/30\n",
            "90/90 - 315s - loss: 0.0447 - accuracy: 0.9835 - val_loss: 0.0481 - val_accuracy: 0.9827 - 315s/epoch - 4s/step\n",
            "Epoch 23/30\n",
            "90/90 - 311s - loss: 0.0433 - accuracy: 0.9841 - val_loss: 0.0491 - val_accuracy: 0.9824 - 311s/epoch - 3s/step\n",
            "Epoch 24/30\n",
            "90/90 - 313s - loss: 0.0429 - accuracy: 0.9843 - val_loss: 0.0488 - val_accuracy: 0.9826 - 313s/epoch - 3s/step\n",
            "Epoch 25/30\n",
            "90/90 - 313s - loss: 0.0421 - accuracy: 0.9846 - val_loss: 0.0446 - val_accuracy: 0.9843 - 313s/epoch - 3s/step\n",
            "Epoch 26/30\n",
            "90/90 - 309s - loss: 0.0420 - accuracy: 0.9849 - val_loss: 0.0546 - val_accuracy: 0.9803 - 309s/epoch - 3s/step\n",
            "Epoch 27/30\n",
            "90/90 - 309s - loss: 0.0407 - accuracy: 0.9853 - val_loss: 0.0447 - val_accuracy: 0.9843 - 309s/epoch - 3s/step\n",
            "Epoch 28/30\n",
            "90/90 - 309s - loss: 0.0407 - accuracy: 0.9853 - val_loss: 0.0450 - val_accuracy: 0.9840 - 309s/epoch - 3s/step\n",
            "Epoch 29/30\n",
            "90/90 - 307s - loss: 0.0399 - accuracy: 0.9857 - val_loss: 0.0461 - val_accuracy: 0.9840 - 307s/epoch - 3s/step\n",
            "Epoch 30/30\n",
            "90/90 - 305s - loss: 0.0397 - accuracy: 0.9858 - val_loss: 0.0420 - val_accuracy: 0.9852 - 305s/epoch - 3s/step\n"
          ]
        },
        {
          "data": {
            "text/plain": [
              "<keras.callbacks.History at 0x7f1d16974b10>"
            ]
          },
          "execution_count": null,
          "metadata": {},
          "output_type": "execute_result"
        }
      ]
    },
    {
      "cell_type": "markdown",
      "metadata": {
        "id": "2bTkaFM2X1gr"
      },
      "source": [
        "<a name='7'></a>\n",
        "## 7. Inference\n",
        "\n",
        "Let's run inference using the test dataset section.\n"
      ]
    },
    {
      "cell_type": "code",
      "metadata": {
        "colab": {
          "background_save": true
        },
        "id": "x44Cuu5VIRmD"
      },
      "source": [
        "batch_size = test_images.shape[0]\n",
        "test_images_batch, test_annotations_batch = next(datagen.flow((test_images,test_annotations), batch_size=batch_size, subset='validation'))\n",
        "results = model.predict_on_batch(test_images_batch)"
      ],
      "execution_count": null,
      "outputs": []
    },
    {
      "cell_type": "markdown",
      "metadata": {
        "id": "mkys-L68sr5U"
      },
      "source": [
        "<a name='8'></a>\n",
        "## 8. Visualize inference results\n",
        "\n",
        "Show test images vs ground truth annotations vs prediction results.\n",
        "Images from display are randomly selected from the entire test set.\n"
      ]
    },
    {
      "cell_type": "code",
      "metadata": {
        "colab": {
          "base_uri": "https://localhost:8080/",
          "height": 304
        },
        "id": "X0nCfspMp9QC",
        "outputId": "6ca91a6d-6044-4fa8-9148-fa5211298670"
      },
      "source": [
        "import random\n",
        "\n",
        "max_display_images = 15\n",
        "\n",
        "plt.figure(figsize=(20, 5))\n",
        "\n",
        "n = min(test_images_batch.shape[0], max_display_images)\n",
        "test_indices_for_display = random.sample(range(1, test_images_batch.shape[0]), n)\n",
        "\n",
        "for idx, display_index in enumerate(test_indices_for_display):\n",
        "  plt.yticks([])\n",
        "  plt.xticks([])\n",
        "  plt.subplot(3, N, idx+1)\n",
        "\n",
        "  plt.imshow(test_images_batch[display_index,:,:,0])\n",
        "  if idx == int(N/2):\n",
        "    plt.title('test images')\n",
        "  plt.subplot(3, N, N+idx+1)\n",
        "  plt.imshow(np.argmax(test_annotations_batch[display_index], axis=2))\n",
        "  if idx == int(N/2):\n",
        "    plt.title('ground truth annotations')\n",
        "  plt.subplot(3, N, 2*N+idx+1)\n",
        "  plt.imshow(np.argmax(results[display_index], axis=2))\n",
        "  if idx == int(N/2):\n",
        "    plt.title('prediction segmented output')\n",
        "\n",
        " \n"
      ],
      "execution_count": null,
      "outputs": [
        {
          "output_type": "display_data",
          "data": {
            "image/png": "[encoded data removed]",
            "text/plain": [
              "<Figure size 1440x360 with 45 Axes>"
            ]
          },
          "metadata": {
            "needs_background": "light"
          }
        }
      ]
    },
    {
      "cell_type": "markdown",
      "metadata": {
        "id": "hpKDUuAWX5Pj"
      },
      "source": [
        "<a name='9'></a>\n",
        "## 9. Model Evaluation Metrics\n",
        "\n",
        "\n",
        "\n",
        "\\\\(iou = \\frac{area\\ of\\ overlap}{area\\ of\\ union}\\\\)\n",
        "\n",
        "\\\\( dice\\ scor = 2 * \\frac{area\\ of\\ overlap}{combined\\ area}\\\\)\n",
        "\n"
      ]
    },
    {
      "cell_type": "code",
      "metadata": {
        "colab": {
          "background_save": true
        },
        "id": "gKTpLmly_RXb"
      },
      "source": [
        "def class_wise_metrics(y_true, y_pred):\n",
        "  '''\n",
        "  Computes the class-wise IOU and Dice Score.\n",
        "\n",
        "  Args:\n",
        "    y_true (tensor) - ground truth label maps\n",
        "    y_pred (tensor) - predicted label maps\n",
        "  '''\n",
        "  class_wise_iou = []\n",
        "  class_wise_dice_score = []\n",
        "\n",
        "  smoothing_factor = 0.00001\n",
        "\n",
        "  for i in range(n_classes):\n",
        "    intersection = np.sum((y_pred == i) * (y_true == i))\n",
        "    y_true_area = np.sum((y_true == i))\n",
        "    y_pred_area = np.sum((y_pred == i))\n",
        "    combined_area = y_true_area + y_pred_area\n",
        "    # print(i, intersection, y_true_area, y_true_area)\n",
        "    iou = (intersection) / (combined_area - intersection + smoothing_factor)\n",
        "    class_wise_iou.append(iou)\n",
        "    \n",
        "    dice_score =  2 * ((intersection) / (combined_area + smoothing_factor))\n",
        "    class_wise_dice_score.append(dice_score)\n",
        "\n",
        "  return class_wise_iou, class_wise_dice_score\n"
      ],
      "execution_count": null,
      "outputs": []
    },
    {
      "cell_type": "code",
      "metadata": {
        "colab": {
          "background_save": true
        },
        "id": "rLbd1-SbpSg5"
      },
      "source": [
        "cls_wise_iou, cls_wise_dice_score = class_wise_metrics(np.argmax(test_annotations_batch, axis=3), np.argmax(results, axis=3))\n",
        "\n",
        "average_iou = 0.0\n",
        "for idx, (iou, dice_score) in enumerate(zip(cls_wise_iou, cls_wise_dice_score)):\n",
        "  print(\"Digit {}: IOU: {} Dice Score: {}\".format(idx, iou, dice_score)) \n",
        "  average_iou += iou\n",
        "\n",
        "grade = average_iou * 10\n",
        "\n",
        "print(\"\\nGrade is \" + str(grade))\n",
        "\n",
        "PASSING_GRADE = 60\n",
        "if (grade>PASSING_GRADE):\n",
        "  print(\"You passed!\")\n",
        "else:\n",
        "  print(\"You failed. Please check your model and re-train\")"
      ],
      "execution_count": null,
      "outputs": []
    },
    {
      "cell_type": "markdown",
      "metadata": {
        "id": "EiG9K4t6X9iZ"
      },
      "source": [
        "### Compute IOU Score and Dice Score of your model"
      ]
    },
    {
      "cell_type": "markdown",
      "metadata": {
        "id": "vvw0HLY2kV3w"
      },
      "source": [
        "## Save the Model\n",
        "\n",
        "Once you're satisfied with the results, you will need to save your model so you can upload it to the grader in the Coursera classroom. After running the cell below, please look for `student_model.h5` in the File Explorer on the left and download it. Then go back to the Coursera classroom and upload it to the Lab item that points to the autograder of Week 3."
      ]
    },
    {
      "cell_type": "code",
      "metadata": {
        "colab": {
          "background_save": true
        },
        "id": "ULCfGHEKkaO0"
      },
      "source": [
        "model.save(\"model.h5\")"
      ],
      "execution_count": null,
      "outputs": []
    },
    {
      "cell_type": "code",
      "metadata": {
        "colab": {
          "background_save": true
        },
        "id": "QbVfJ2aLONqw"
      },
      "source": [
        "# You can also use this cell as a shortcut for downloading your model\n",
        "# from google.colab import files\n",
        "files.download(\"model.h5\")"
      ],
      "execution_count": null,
      "outputs": []
    },
    {
      "cell_type": "markdown",
      "metadata": {
        "id": "dmyvoAynkgVw"
      },
      "source": [
        "**Congratulations on completing this assignment on image segmentation!**"
      ]
    }
  ]
}