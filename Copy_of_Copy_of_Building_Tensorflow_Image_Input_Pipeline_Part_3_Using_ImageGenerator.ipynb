{
  "cells": [
    {
      "cell_type": "markdown",
      "metadata": {
        "id": "view-in-github",
        "colab_type": "text"
      },
      "source": [
        "<a href=\"https://colab.research.google.com/github/ronen-halevy/ai-notebooks/blob/main/Copy_of_Copy_of_Building_Tensorflow_Image_Input_Pipeline_Part_3_Using_ImageGenerator.ipynb\" target=\"_parent\"><img src=\"https://colab.research.google.com/assets/colab-badge.svg\" alt=\"Open In Colab\"/></a>"
      ]
    },
    {
      "cell_type": "markdown",
      "metadata": {
        "id": "MZ3g9dJxSxmN"
      },
      "source": [
        "\n",
        "# Building Tensorflow Image Input Pipeline Part 3-Using ImageGenerator\n",
        "---\n"
      ]
    },
    {
      "cell_type": "markdown",
      "source": [
        "## Introduction\n",
        "---\n",
        "\n",
        "\n",
        "The Input Data Pipeline is the preprocessing stage of the Neural Network. It operates in an **`ETL`** (**E**xtract, **T**ransform, **L**oad) pipelined process, as depicted in the figure which follows.\n",
        "\n",
        "\n",
        "**`Input Pipeline`:**\n"
      ],
      "metadata": {
        "id": "tx96c71oa_iK"
      }
    },
    {
      "cell_type": "markdown",
      "source": [
        "![image.png](data:image/png;base64,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)"
      ],
      "metadata": {
        "id": "-s5exo_RtRMe"
      }
    },
    {
      "cell_type": "markdown",
      "source": [
        "### **Input Pipeline Outlines**\n",
        "---\n",
        "\n",
        "\n",
        "\n",
        "The **Extract** block fetches data from input data source, which in case of Image Data Networks are most likely data files, and arranges them as dataset memory objects in local memory.\n",
        "\n",
        "The **Transform** block, transformd the data to create an efficient input data set. Most of the transforms are regarded `Performance Transforms` as they format the data to achieve better compute performance.\n",
        "\n",
        "\n",
        "The **Load** block transfers the data to the Network's input layer. \n",
        "\n",
        "\n",
        "\n",
        "### **Commonly used Data Transforms:**\n",
        "---\n",
        "\n",
        "\n",
        "\n",
        "- **Image Decoding** - decode either from jpeg or any coding format.\n",
        "- **Data batching** - batches of data, be it image data or not, are required for an efficient parralelized process in general, and speciffically better exploits GPUs parralelism capabilities.\n",
        ".\n",
        "- **Resize** - Networks require uniform sized images only. Since source data images are mostly uniform in size, a `resize` operation is mandatory. Now, which is size to resize to? The answer is not always straight forward and definite. There are tradeoffs such as a tradeoff between details preservation vs compution and memory load. Anyway, we will set dimenssions such that after downsizing both height and width ramain integrer.\n",
        "\n",
        "\n",
        "\n",
        "- **Rescale** - Rescales every value of an input by multiplying by scale and adding offset.\n",
        "\n",
        "\n",
        "\n",
        "- **Caching** - avoid reloading at each epoch fitting cycle. Large datasets which do not fit in memory, should not be cached.\n",
        "\n",
        "- **Shuffle** - which randomized the data loading sequence order.\n",
        "- **Prefetch** - supports concurrent data prefetching and data processing.\n",
        "- **Data Augmentation** - expands training dataset, increases the diversity of training set, by applying transformations, such as image rotation, flips, shifts.\n"
      ],
      "metadata": {
        "id": "ZY3raQHrZ9wy"
      }
    },
    {
      "cell_type": "markdown",
      "source": [
        "### **About the series of posts**\n",
        "\n",
        "This page is part of a series posts about **Building An Tensorflow Image Input Pipeline**.\n",
        "\n",
        "Each post of this series presents one approach for the creation of an input image data pipeline, each uses a different set of APIs.\n",
        "\n",
        "They differ in aspects such as level of integration (some are more integrated convinience api while others are less integrated but sometimes more flexible), and also differ in terms of efficiency and performance, (the `ImageGenerator` approach proves to be less performant)\n",
        "\n",
        "Still, all approaches create a tensorflow dataset object which is an itegrated part of the Neural Netork Graph, along with the NN model, thus providing a smooth data integration throughout the process.\n",
        "\n",
        "### Description of the Posts Contents\n",
        "\n",
        "Each of the posts illustrates the creation of the input pipeline in the context of a data classification example, using various data sources: `rock-paper-scissors`, `flowers` and `horses or humans`"
      ],
      "metadata": {
        "id": "LiAUhQ61Z9wz"
      }
    },
    {
      "cell_type": "markdown",
      "metadata": {
        "id": "pL-09VtEa_iL"
      },
      "source": [
        "\n",
        "### List of the series posts:\n",
        "---\n",
        "\n",
        "\n",
        "The posts of this series are: \n",
        "\n",
        "\n",
        "- **Building Tensorflow Image Input Pipeline Part 1**: Using tf.data()\n",
        "\n",
        "- [**Building Tensorflow Image Input Pipeline Part 2**: Using Keras Utils](https://colab.research.google.com/drive/1s3EdMO2uMWQMtqsPxIZOS-cvA4QqfMls#scrollTo=gpz8q177vSBj&uniqifier=2)\n",
        "\n",
        "- **Building Tensorflow Image Input Pipeline Part 3**: Using ImageGenerator()\n",
        "- **Building Tensorflow Image Input Pipeline Part 4**: Using TFDS()\n",
        "\n",
        "\n",
        "Each of the posts illustrates the creation of the dataset within an image classification example. \n",
        "\n",
        "Let's go dive into the code!"
      ]
    },
    {
      "cell_type": "markdown",
      "metadata": {
        "id": "CDpLbqs1Z9w0"
      },
      "source": [
        "###**Notes About this post approach- data pipeline Creation with Keras Utils**\n",
        "---\n",
        "\n",
        "\n",
        "\n",
        "The Keras Utils approach provides convinience methods for a compact and easy yet efficient data pipeline implelementation.\n",
        "\n"
      ]
    },
    {
      "cell_type": "markdown",
      "source": [
        "### **Horses Or Humans**\n",
        "---\n",
        "\n",
        "\n",
        "The input data used in this example is the `Horses Or Humans` dataset, listed in [TensorFlow Datasets catalog](https://www.tensorflow.org/datasets/catalog/overview). The dataset was produced by [Lawrance Moroney](https://laurencemoroney.com/datasets.html), million thanks for him on that."
      ],
      "metadata": {
        "id": "3UK0vIz2Z9w0"
      }
    },
    {
      "cell_type": "markdown",
      "source": [
        "![image.png](data:image/png;base64,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)"
      ],
      "metadata": {
        "id": "CQ33g1UhtsWR"
      }
    },
    {
      "cell_type": "markdown",
      "source": [
        "### **Input Pipeline Outlines**\n",
        "---\n",
        "\n",
        "\n",
        "The **Extract** block fetches data from input data source, which in case of Image Data Networks are most likely data files, arranges them as dataset memory objects in local memory.\n",
        "\n",
        "The **Transform** block, naturally, transformd the data to create an efficient input data set. Most of the transforms are regarded `Performance Transforms` as they format the data to achieve better compute performance.\n",
        "\n",
        "\n",
        "The **Load** block transfers the data to the Network's input layer. \n",
        "\n",
        "\n",
        "\n",
        "### **Commonly Used Data Transform**\n",
        "---\n",
        "\n",
        "\n",
        "- **Image Decoding** - decode either from jpeg or any coding format.\n",
        "- **Data batching** - batches of data, be it image data or not, are required for an efficient parralelized process in general, and speciffically better exploits GPUs parralelism capabilities.\n",
        ".\n",
        "- **Resize** - Networks require uniform sized images only. Since source data images are mostly uniform in size, a `resize` operation is mandatory. Now, which is size to resize to? The answer is not always straight forward and definite. There are tradeoffs such as a tradeoff between details preservation vs compution and memory load. Anyway, we will set dimenssions such that after downsizing both height and width ramain integrer.\n",
        "\n",
        "\n",
        "\n",
        "- **Normalize** (or better say scale) input data to the range [0,1]. A standardized  data range for all input data is essential for a better model Performance. \n",
        "\n",
        "- **Caching** of input data to avoid reloading at each epoch fitting cycle. Large datasets which do not fit in memory, should not be cached.\n",
        "\n",
        "- **Shuffling** - which randomized the data loading sequence order.\n",
        "- **Prefetch** which supports concurrent data prefetching and data processing.\n",
        "- **Data Augmentation** which expands training dataset, increases the diversity of training set, by applying transformations, such as image rotation, flips, shifts.\n"
      ],
      "metadata": {
        "id": "qSXBzACEKh-X"
      }
    },
    {
      "cell_type": "markdown",
      "source": [
        "### **About the series of posts**\n",
        "---\n",
        "This page is part of a series posts about **Building An Tensorflow Image Input Pipeline**.\n",
        "\n",
        "Each post of this series presents one approach for the creation of an image input pipeline, each uses a different set of APIs.\n",
        "\n",
        "They differ in aspects such as level of integration (some are more integrated convinience api while others are less integrated but sometimes more flexible), and also differ in terms of efficiency and performance, (the `ImageGenerator` approach proves to be less performant)\n",
        "\n",
        "Still, all approaches create a tensorflow dataset object which is an itegrated part of the Neural Netork Graph, along with the NN model, thus providing a smooth data integration throughout the process.\n",
        "\n",
        "### Description of the Posts Contents\n",
        "\n",
        "Each of the posts illustrates the creation of the input pipeline in the context of a data classification example, using various data sources: `rock-paper-scissors`, `flowers`, and `horses or humans`"
      ],
      "metadata": {
        "id": "kbuQZp0LRudL"
      }
    },
    {
      "cell_type": "markdown",
      "metadata": {
        "id": "29D6edJgxynd"
      },
      "source": [
        "\n",
        "### List of the series posts:\n",
        "---\n",
        "\n",
        "The posts of this series are: \n",
        "\n",
        "\n",
        "- **Building Tensorflow Image Input Pipeline Part 1**: Using tf.data()\n",
        "\n",
        "- [**Building Tensorflow Image Input Pipeline Part 2**: Using Keras Utils](https://colab.research.google.com/drive/1s3EdMO2uMWQMtqsPxIZOS-cvA4QqfMls#scrollTo=gpz8q177vSBj&uniqifier=2)\n",
        "\n",
        "- **Building Tensorflow Image Input Pipeline Part 3**: Using ImageGenerator()\n",
        "- **Building Tensorflow Image Input Pipeline Part 4**: Using TFDS()\n",
        "\n",
        "\n",
        "Each of the posts illustrates the creation of the dataset within an image classification example. \n",
        "\n",
        "Let's go dive into the code!"
      ]
    },
    {
      "cell_type": "markdown",
      "metadata": {
        "id": "MDKAHs5BOEVH"
      },
      "source": [
        "\n",
        "\n",
        "\n",
        "##**About keras preprocessing ImageDataGenerator**\n",
        "---\n",
        "This page illustrate the building of the data pipeline with keras.preprocessing.ImageDataGenerator.\n",
        "\n",
        "This approach provides a compact set of APIs on one hand, but proves to be less efficient in therms of computation speed comparing to other approaches. Note that it lacks performance transformations such as data caching, data prefetch.\n",
        "\n",
        "ImageDataGenerator is my least prefereable approach, btw.\n",
        "\n"
      ]
    },
    {
      "cell_type": "markdown",
      "metadata": {
        "id": "R9XQlH7TtG0e"
      },
      "source": [
        "\n",
        "## 1. Import Packages\n",
        "---"
      ]
    },
    {
      "cell_type": "code",
      "execution_count": null,
      "metadata": {
        "id": "aifz2907kxYN",
        "colab": {
          "base_uri": "https://localhost:8080/"
        },
        "outputId": "1e7fe456-f021-4c87-8aea-8ff557eed131"
      },
      "outputs": [
        {
          "output_type": "stream",
          "name": "stdout",
          "text": [
            "The tensorboard extension is already loaded. To reload it, use:\n",
            "  %reload_ext tensorboard\n"
          ]
        }
      ],
      "source": [
        "import tensorflow as tf\n",
        "import tensorflow_datasets as tfds\n",
        "import matplotlib.pyplot as plt\n",
        "import numpy as np\n",
        "import os\n",
        "import PIL\n",
        "from tensorflow import keras\n",
        "from tensorflow.keras import layers\n",
        "import random\n",
        "import datetime\n",
        "\n",
        "%load_ext tensorboard"
      ]
    },
    {
      "cell_type": "markdown",
      "metadata": {
        "id": "up8yBz07bkD1"
      },
      "source": [
        "## 2. Download the data\n",
        "---\n",
        "***Rock Paper Scissors***\n",
        "We will use the `Rock Paper Scissors` dataset, listed in [TensorFlow Datasets catalog](https://www.tensorflow.org/datasets/catalog/overview). The dataset was produced by [Lawrance Moroney](https://laurencemoroney.com/datasets.html), million thanks for him on that.\n",
        "\n",
        "####**Download Train Data files**"
      ]
    },
    {
      "cell_type": "code",
      "execution_count": null,
      "metadata": {
        "id": "p7ncc-bgbbQj"
      },
      "outputs": [],
      "source": [
        "import pathlib\n",
        "dataset_name = 'rps'\n",
        "dataset_url = 'https://storage.googleapis.com/laurencemoroney-blog.appspot.com/rps.zip'\n",
        "dataset_file = tf.keras.utils.get_file(origin=dataset_url, fname=dataset_name+'.zip', extract=True)"
      ]
    },
    {
      "cell_type": "markdown",
      "metadata": {
        "id": "AQBpPBLzF6NR"
      },
      "source": [
        "#####**Print path of downloaded file:**\n",
        "\n"
      ]
    },
    {
      "cell_type": "code",
      "execution_count": null,
      "metadata": {
        "colab": {
          "base_uri": "https://localhost:8080/"
        },
        "id": "KGWm_VvZLVVr",
        "outputId": "c50d774a-bc1e-4c3e-b539-b1baa414f538"
      },
      "outputs": [
        {
          "output_type": "stream",
          "name": "stdout",
          "text": [
            "/root/.keras/datasets/rps.zip\n"
          ]
        }
      ],
      "source": [
        "print(dataset_file)"
      ]
    },
    {
      "cell_type": "markdown",
      "source": [
        "Having set the `get_file()` with `extract=True` attribute, the `zip` file was extracted automatically.\n",
        "\n",
        "Image data file tree is now arranged as depicted in the diagram below."
      ],
      "metadata": {
        "id": "T1Y-C17p4YjM"
      }
    },
    {
      "cell_type": "markdown",
      "source": [
        "####**Present Train Data File Tree**"
      ],
      "metadata": {
        "id": "vkOjf3RHdnO-"
      }
    },
    {
      "cell_type": "markdown",
      "source": [
        "![image.png](data:image/png;base64,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)"
      ],
      "metadata": {
        "id": "rn7J6GeQ1ho9"
      }
    },
    {
      "cell_type": "markdown",
      "metadata": {
        "id": "KMZ-mEZMSILe"
      },
      "source": [
        "####**List downloaded and extracted files**"
      ]
    },
    {
      "cell_type": "code",
      "execution_count": null,
      "metadata": {
        "colab": {
          "base_uri": "https://localhost:8080/"
        },
        "id": "reORRLdso3o9",
        "outputId": "d97dde27-e752-4b08-ea21-8fb1cb557710"
      },
      "outputs": [
        {
          "output_type": "stream",
          "name": "stdout",
          "text": [
            "rps  rps-test-set  rps_test.zip  rps.zip\n"
          ]
        }
      ],
      "source": [
        "import os\n",
        "dataset_dir = pathlib.Path(os.path.dirname(os.path.abspath(dataset_file)))\n",
        "!ls $dataset_dir"
      ]
    },
    {
      "cell_type": "code",
      "source": [
        "!rm -rf /root/.keras/datasets/rps-test-set"
      ],
      "metadata": {
        "id": "rIhT1PZe9neR"
      },
      "execution_count": null,
      "outputs": []
    },
    {
      "cell_type": "code",
      "source": [
        "!rm -rf /root/.keras/datasets/rps_test.zip "
      ],
      "metadata": {
        "id": "sm2l11KV92AW"
      },
      "execution_count": null,
      "outputs": []
    },
    {
      "cell_type": "markdown",
      "metadata": {
        "id": "L2n5oYwskOhS"
      },
      "source": [
        "####**list the subdirs**"
      ]
    },
    {
      "cell_type": "code",
      "execution_count": null,
      "metadata": {
        "colab": {
          "base_uri": "https://localhost:8080/"
        },
        "id": "nlAndLZM8W5C",
        "outputId": "1b6996fd-49b3-4374-e5e5-cd2c88294104"
      },
      "outputs": [
        {
          "output_type": "stream",
          "name": "stdout",
          "text": [
            "['scissors', 'paper', 'rock']\n"
          ]
        }
      ],
      "source": [
        "subdir_names = [f for f in os.listdir(os.path.join(dataset_dir, dataset_name))]\n",
        "print(subdir_names)"
      ]
    },
    {
      "cell_type": "markdown",
      "source": [
        "####**Download the test data**"
      ],
      "metadata": {
        "id": "2I0Qjc2VeKpX"
      }
    },
    {
      "cell_type": "markdown",
      "source": [
        "The dataset's author composed another zip file which holds the test data.\n",
        "\n",
        "Next download it:"
      ],
      "metadata": {
        "id": "zEq74LFueORe"
      }
    },
    {
      "cell_type": "code",
      "execution_count": null,
      "metadata": {
        "id": "ieVmv2JgBFmz"
      },
      "outputs": [],
      "source": [
        "dataset_test_name = 'rps_test'\n",
        "dataset_test_url = 'https://storage.googleapis.com/laurencemoroney-blog.appspot.com/rps-test-set.zip'\n",
        "dataset_test_file = tf.keras.utils.get_file(origin=dataset_test_url, fname=dataset_test_name+'.zip', extract=True)"
      ]
    },
    {
      "cell_type": "markdown",
      "source": [
        "The downloaded test zip file was auto-extracted.\n",
        "\n",
        "The test image data file tree is now arranged as depicted in the diagram below."
      ],
      "metadata": {
        "id": "lqMZ-PxX2Dlx"
      }
    },
    {
      "cell_type": "markdown",
      "source": [
        "####**Present Test Data File Tree**"
      ],
      "metadata": {
        "id": "B4xwS33SeZ0a"
      }
    },
    {
      "cell_type": "markdown",
      "source": [
        "![image.png](data:image/png;base64,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)"
      ],
      "metadata": {
        "id": "SBSlxyyk2Ek0"
      }
    },
    {
      "cell_type": "markdown",
      "source": [
        "#####**List the files:**"
      ],
      "metadata": {
        "id": "pJwQqur224Kx"
      }
    },
    {
      "cell_type": "code",
      "source": [
        "import os\n",
        "dataset_dir = pathlib.Path(os.path.dirname(os.path.abspath(dataset_file)))\n",
        "!ls $dataset_dir"
      ],
      "metadata": {
        "colab": {
          "base_uri": "https://localhost:8080/"
        },
        "id": "7JX-XRdL2sOj",
        "outputId": "d9e61edd-afb9-43cc-851b-77e1392e00db"
      },
      "execution_count": null,
      "outputs": [
        {
          "output_type": "stream",
          "name": "stdout",
          "text": [
            "rps  rps-test-set  rps_test.zip  rps.zip\n"
          ]
        }
      ]
    },
    {
      "cell_type": "markdown",
      "metadata": {
        "id": "jo_9JBtArGB4"
      },
      "source": [
        "**Merge Train and Test Data**\n",
        "\n",
        "The `train` and `test` datasection are pre-split 80-20. Normally, that would be fine. \n",
        "\n",
        "But, methodicaly, to demonstrate slicing to `train` and `validate` slices later on, we will now merge the 2 downloaded splits, and have a single big data source."
      ]
    },
    {
      "cell_type": "code",
      "execution_count": null,
      "metadata": {
        "id": "G1gfqvMOBHpt"
      },
      "outputs": [],
      "source": [
        "!cp -r /root/.keras/datasets/rps-test-set/* /root/.keras/datasets/rps"
      ]
    },
    {
      "cell_type": "markdown",
      "metadata": {
        "id": "kglYFYVQgz6N"
      },
      "source": [
        "The `train` and `test` datasection are split 80-20. That is fine. but for methodical reasons, The straight forward way to do is to take them as is for training and validation respectively. Methodicaly, we will merge the 2, just to demonstrate the split capabilities of the method which follows in the next notebook cell."
      ]
    },
    {
      "cell_type": "markdown",
      "metadata": {
        "id": "XA6QKtOzfJ57"
      },
      "source": [
        "####**Show Total Downloaded Number of Files Per Class**"
      ]
    },
    {
      "cell_type": "code",
      "execution_count": null,
      "metadata": {
        "colab": {
          "base_uri": "https://localhost:8080/"
        },
        "id": "HStQT2VZfEgM",
        "outputId": "e791e44f-0c36-4da7-c37c-4af1c3f4cdfb"
      },
      "outputs": [
        {
          "output_type": "stream",
          "name": "stdout",
          "text": [
            "scissors: 964 files\n",
            "paper: 964 files\n",
            "rock: 964 files\n",
            "total file count: 2892\n"
          ]
        }
      ],
      "source": [
        "from os import listdir\n",
        "from os.path import isfile, join\n",
        "import os\n",
        "\n",
        "class_dir_info = {}\n",
        "file_ext = 'png'\n",
        "\n",
        "base_data_dir = os.path.join(dataset_dir, 'rps')\n",
        "for subdir_name in subdir_names:\n",
        "  subdir = pathlib.Path(os.path.join(base_data_dir, subdir_name))\n",
        "  files_count = len([file for file in os.listdir(subdir) if file.endswith(file_ext)])\n",
        "  class_dir_info.update({'dir': subdir})\n",
        "  print('{}: {} files'.format(subdir_name, files_count))\n",
        "\n",
        "print('total file count: {}'.format(len(list(pathlib.Path(base_data_dir).glob('*/*.{}'.format(file_ext))))))"
      ]
    },
    {
      "cell_type": "markdown",
      "metadata": {
        "id": "lh8KjfUpOKR4"
      },
      "source": [
        "***Visualization*** - take a brief look at randomly selected images from each class"
      ]
    },
    {
      "cell_type": "markdown",
      "metadata": {
        "id": "D3wceLaGcziV"
      },
      "source": [
        "## 3. Create the Input Pipeline\n",
        "---\n"
      ]
    },
    {
      "cell_type": "markdown",
      "source": [
        "####**Some Values Setup**"
      ],
      "metadata": {
        "id": "c3N230Z53CmT"
      }
    },
    {
      "cell_type": "markdown",
      "metadata": {
        "id": "1ldRmJ2f1fv4"
      },
      "source": [
        "\n",
        "- **batch size**: A batch size of 32 is a good starting point. There's a trade-off here, were a too small batch size might lead to a too slow processing due to lacking vectorization. A too large batch might leads to low accuracy and thus longer training time.\n"
      ]
    },
    {
      "cell_type": "markdown",
      "source": [
        "\n",
        "- **image_height**, **image_width**: The are tradeoffs in setting the input dimenssions: keeping details vs process load. Anyway, since source data image is mostly none size uniform, resizing is essential. Since the NN deployed here has 5 pooling modules, which reduce size overall by 32, the size was set to a multiply of 32."
      ],
      "metadata": {
        "id": "aiGq_1562-3a"
      }
    },
    {
      "cell_type": "markdown",
      "source": [
        "####**Create the image.ImageDataGenerator**"
      ],
      "metadata": {
        "id": "1dkmi1xU0CNp"
      }
    },
    {
      "cell_type": "markdown",
      "source": [
        "The `ImageDataGenerator` method defines the dataset, plus, in the same time it sets up the performance parameters.\n"
      ],
      "metadata": {
        "id": "PNW8nc2T0ZF8"
      }
    },
    {
      "cell_type": "markdown",
      "source": [
        "The method supports a wide set of attributes for pre-processing the data. Here below is an example with just a fraction of those supported attributes\n",
        "\n",
        "Notes on the attributes used:\n",
        "\n",
        "- **rotation_range**: Int. Degree range for random rotations.\n",
        "  \n",
        "- **shear_range**: Shear angle in counter-clockwise direction in degrees\n",
        "\n",
        "- **zoom_range**:Range for random zoom\n",
        "    \n",
        "- **fill_mode**: Points outside the boundaries of the input are filled according to the given mode.\n",
        "  - constant': kkkkkkkk|abcd|kkkkkkkk (cval=k)\n",
        "  - 'nearest': aaaaaaaa|abcd|dddddddd\n",
        "  - 'reflect': abcddcba|abcd|dcbaabcd\n",
        "  - 'wrap': abcdabcd|abcd|abcdabcd\n",
        "\n",
        "- **horizontal_flip**: Boolean. Randomly flip inputs horizontally.\n",
        "- **vertical_flip**: Boolean. Randomly flip inputs vertically.\n",
        "- **rescale**:  multiply the data by the value provided after applying all other transformations).\n",
        "\n",
        "- **validation_split**:  Fraction of images reserved for validation \n",
        "\n"
      ],
      "metadata": {
        "id": "9E0wLevX6fbt"
      }
    },
    {
      "cell_type": "code",
      "source": [
        "image_datagen = tf.keras.preprocessing.image.ImageDataGenerator(\n",
        "    rotation_range=90, #Int. Degree range for random rotations.\n",
        "    shear_range=10.0, \n",
        "    zoom_range=0.1,\n",
        "    fill_mode='nearest', \n",
        "    horizontal_flip=True, \n",
        "    vertical_flip=False, \n",
        "    rescale=1./255,\n",
        "    validation_split=0.2\n",
        ")"
      ],
      "metadata": {
        "id": "joliXyqu0GmK"
      },
      "execution_count": null,
      "outputs": []
    },
    {
      "cell_type": "markdown",
      "source": [
        "####**Set Training data:**"
      ],
      "metadata": {
        "id": "7P62wGUQ2iu3"
      }
    },
    {
      "cell_type": "markdown",
      "source": [
        "#####**Create the Dataset**\n",
        "\n",
        "Dataset is created by `flow_from_directory` method, based on source files resides in the specified directory.\n",
        "\n",
        "\n",
        "Some Notes on Method's Attributes\n",
        "\n",
        "- **directory**: Location of source files.\n",
        "\n",
        "- **target_size**: The dimensions to which all images found will be resized. (default=(256, 256))\n",
        "- **batch_size**: Size of the batches of data (default: 32).\n",
        "- **shuffle**: Whether to shuffle the data (default: `True`) If set to `False`, **sorts the data in alphanumeric order**.\n",
        "\n",
        "- **seed**: Optional random seed for shuffling and transformations.\n",
        "- **color_mode**: Whether the images will be converted to have 1 or 3 color channels.\n",
        "- **subset**: Subset of data (\"training\" or \"validation\") if validation_split is set in ImageDataGenerator. (default=None)\n",
        "\n",
        "- **save_to_dir**: `None` or `str` (default: None). This allows you to optionally specify a directory to which to save the augmented pictures being generated (useful for visualizing what you are doing).\n",
        "- **save_format**: one of \"png\", \"jpeg\", \"bmp\", \"pdf\", \"ppm\", \"gif\", \"tif\", \"jpg\" (only relevant if save_to_dir is set). Default: \"png\".\n",
        "\n",
        "- **save_prefix**: Str. Prefix to use for filenames of saved pictures (only relevant if save_to_dir is set).\n",
        "\n",
        "- **classes**: Optional list of classes, e.g. ['rock, 'paper', 'scissors'].  If not provided, the list of classes will be automatically inferred from the subdirectory names/structure under directory. (Default=None)\n",
        "\n",
        "- **class_mode**:  Determines the type of label arrays that the generator yields. Default: \"categorical\". \n",
        "\n",
        "  **Important Note-Avoid a common mistake:** The selection of `class_mode` implicates on the type of `loss` which sould be sellected in `model.compile`, \n",
        "  \n",
        "  e.g. if `class_mode`=`categorical`, then `model.compile`(`loss`) should be `CategoricalCrossentropy` but not `SparseCategoricalCrossentropy`, otherwise, `model.fit` will end up with an error.\n",
        "\n",
        "  - **Optional values**:\n",
        "\n",
        "    - **\"categorical\"** - A 2D output, i.e. a one-hot encoding. This fits multiclass decisions. E.g. for `rock, paper, scissors`:[[1,0,0], [0,1,0],[0,0,1]]\n",
        "    - **\"binary\"** - A 1D output, for binary classification.\n",
        "    - **\"sparse\"** -  [0,1,2,3,4,....n] \n",
        "    - **\"input\"** -  for autoencoders, i.e. data is unlabeled - not in current scope.\n",
        "    - **None** - No  classes are yielded by generator. useful to use with `model.predict()` \n",
        "\n",
        "\n",
        "\n",
        "**Returns**:\n",
        "\n",
        "A DirectoryIterator yielding tuples of (x, y) where x is a numpy array containing a batch of images with shape (batch_size, *target_size, channels) and y is a numpy array of corresponding labels.\n",
        "\n",
        "\n",
        "In the following, 2 Datasets are created: for **Training** and for **Validation**\n"
      ],
      "metadata": {
        "id": "PxOMOd8B3WTe"
      }
    },
    {
      "cell_type": "markdown",
      "source": [
        "#####**Create Train Dataset**"
      ],
      "metadata": {
        "id": "bXLqq6MIWpMf"
      }
    }
  ],
  "metadata": {
    "accelerator": "GPU",
    "colab": {
      "collapsed_sections": [
        "R9XQlH7TtG0e",
        "up8yBz07bkD1",
        "L2n5oYwskOhS",
        "D3wceLaGcziV",
        "dK4knaQmBGgp",
        "V9NyEwnpoHGy",
        "9HKyfgYgCRKp",
        "gnkyXO20tF49",
        "qSQ9Umha_eUw",
        "wAAXygZtbZmu",
        "5j20FIspD0yD",
        "ndIRqypccuAY",
        "OqSEjHULvwD3",
        "4ZCMyLzkFruQ"
      ],
      "history_visible": true,
      "machine_shape": "hm",
      "name": "Copy of Copy of Building Tensorflow Image Input Pipeline Part 3-Using ImageGenerator.ipynb",
      "provenance": [],
      "include_colab_link": true
    },
    "kernelspec": {
      "display_name": "Python 3 (ipykernel)",
      "language": "python",
      "name": "python3"
    },
    "language_info": {
      "codemirror_mode": {
        "name": "ipython",
        "version": 3
      },
      "file_extension": ".py",
      "mimetype": "text/x-python",
      "name": "python",
      "nbconvert_exporter": "python",
      "pygments_lexer": "ipython3",
      "version": "3.9.5"
    }
  },
  "nbformat": 4,
  "nbformat_minor": 0
}