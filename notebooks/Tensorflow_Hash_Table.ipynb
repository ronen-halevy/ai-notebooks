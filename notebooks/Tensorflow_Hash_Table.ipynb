{
  "nbformat": 4,
  "nbformat_minor": 0,
  "metadata": {
    "colab": {
      "name": "Tensorflow Hash Table.ipynb",
      "provenance": [],
      "authorship_tag": "ABX9TyNj05bIebz4FFB+ZIv4kF0Y",
      "include_colab_link": true
    },
    "kernelspec": {
      "name": "python3",
      "display_name": "Python 3"
    },
    "language_info": {
      "name": "python"
    }
  },
  "cells": [
    {
      "cell_type": "markdown",
      "metadata": {
        "id": "view-in-github",
        "colab_type": "text"
      },
      "source": [
        "<a href=\"https://colab.research.google.com/github/ronen-halevy/ai-notebooks/blob/main/notebooks/Tensorflow_Hash_Table.ipynb\" target=\"_parent\"><img src=\"https://colab.research.google.com/assets/colab-badge.svg\" alt=\"Open In Colab\"/></a>"
      ]
    },
    {
      "cell_type": "markdown",
      "source": [
        "This snippet of code illustrate the setting of a lookup table, based on a list of classification text lables stored in a class.\n",
        "\n",
        "\n"
      ],
      "metadata": {
        "id": "_I3oGKeQeBR6"
      }
    },
    {
      "cell_type": "markdown",
      "source": [
        "To illustrate the reading from file with `TextFileInitializer`, we first construct the file on the fly, with a list of class nmaes:\n"
      ],
      "metadata": {
        "id": "NiYYbQb5jzZ5"
      }
    },
    {
      "cell_type": "code",
      "source": [
        "class_names=['triangle','rectangle','circle', 'ellipse', 'hexagon', 'trapezoid']\n",
        "class_file = 'class.names'\n",
        "with open(class_file,'w') as f:\n",
        "  f.write('\\n'.join(class_names))"
      ],
      "metadata": {
        "id": "USj7Mk8dj1dA"
      },
      "execution_count": 3,
      "outputs": []
    },
    {
      "cell_type": "markdown",
      "source": [
        "### Based on the class names file, the table is constructed. the value assigned to a class name is according to the line number in class_file. Default value, used in case of a lookup miss is -1."
      ],
      "metadata": {
        "id": "a3YZnQolkJV7"
      }
    },
    {
      "cell_type": "code",
      "execution_count": 4,
      "metadata": {
        "id": "ireLH3w-dsjv"
      },
      "outputs": [],
      "source": [
        "import tensorflow as tf\n",
        "\n",
        "class_table = tf.lookup.StaticHashTable(tf.lookup.TextFileInitializer(\n",
        "    filename=class_file, key_dtype=tf.string, key_index=0, value_dtype=tf.int64, value_index=tf.lookup.TextFileIndex.LINE_NUMBER, delimiter=\"\\n\"), default_value=-1)\n"
      ]
    },
    {
      "cell_type": "markdown",
      "source": [
        "### Let's illustrate a table lookup with a list of labels. The expected result are the assigned values. The label `salt` is not part of the table, so it returns the default -1 value."
      ],
      "metadata": {
        "id": "Z-qvEm3wkyOD"
      }
    },
    {
      "cell_type": "code",
      "source": [
        "result = class_table.lookup(tf.constant(['rectangle','salt','ellipse', 'triangle'])).numpy()\n",
        "print(result)"
      ],
      "metadata": {
        "colab": {
          "base_uri": "https://localhost:8080/"
        },
        "id": "ZiNp7jfIktVb",
        "outputId": "db45b7a8-5752-4d98-8173-8b42fff18863"
      },
      "execution_count": 5,
      "outputs": [
        {
          "output_type": "stream",
          "name": "stdout",
          "text": [
            "[ 1 -1  3  0]\n"
          ]
        }
      ]
    }
  ]
}