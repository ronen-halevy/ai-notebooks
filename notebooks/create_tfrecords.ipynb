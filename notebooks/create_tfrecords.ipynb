{
  "nbformat": 4,
  "nbformat_minor": 0,
  "metadata": {
    "colab": {
      "name": "create-tfrecords.ipynb",
      "provenance": [],
      "collapsed_sections": [],
      "authorship_tag": "ABX9TyMxFP45OKRwFio3Qmfp2Ipx",
      "include_colab_link": true
    },
    "kernelspec": {
      "name": "python3",
      "display_name": "Python 3"
    },
    "language_info": {
      "name": "python"
    }
  },
  "cells": [
    {
      "cell_type": "markdown",
      "metadata": {
        "id": "view-in-github",
        "colab_type": "text"
      },
      "source": [
        "<a href=\"https://colab.research.google.com/github/ronen-halevy/ai-notebooks/blob/main/notebooks/create_tfrecords.ipynb\" target=\"_parent\"><img src=\"https://colab.research.google.com/assets/colab-badge.svg\" alt=\"Open In Colab\"/></a>"
      ]
    },
    {
      "cell_type": "markdown",
      "source": [
        "#Create Tfrecords"
      ],
      "metadata": {
        "id": "4dy5i9VJ_2bW"
      }
    },
    {
      "cell_type": "markdown",
      "source": [
        "This post present the create-tfrecords repository, with a use case example.\n",
        "\n",
        "The repository consists of 2 scripts:\n",
        "1. Creates a image classificatoin and detection tfrecord dataset.\n",
        "2. Reads the tfrecord dataset and renders example images with the bounding boxes annotation data."
      ],
      "metadata": {
        "id": "rHDPQss0_7e9"
      }
    },
    {
      "cell_type": "markdown",
      "source": [
        "Here below, create tfrecord operation is illustrated using `shapes` dataset. Create Tfrecord takes `shapes` images and metadata as input and produces tfrecords files.\n"
      ],
      "metadata": {
        "id": "sGqa27CZBzyJ"
      }
    },
    {
      "cell_type": "markdown",
      "source": [
        "Let's clone the `shapes` repository so we can use the dataset input."
      ],
      "metadata": {
        "id": "fLMOHTV_CgX8"
      }
    },
    {
      "cell_type": "code",
      "execution_count": null,
      "metadata": {
        "colab": {
          "base_uri": "https://localhost:8080/"
        },
        "id": "tRrN44Xl_RB8",
        "outputId": "6c89b537-42f3-46b3-ee9f-6619aefbcaea"
      },
      "outputs": [
        {
          "output_type": "stream",
          "name": "stdout",
          "text": [
            "Cloning into 'shapes-dataset'...\n",
            "remote: Enumerating objects: 140483, done.\u001b[K\n",
            "remote: Counting objects: 100% (40030/40030), done.\u001b[K\n",
            "remote: Compressing objects: 100% (39793/39793), done.\u001b[K\n",
            "remote: Total 140483 (delta 246), reused 40019 (delta 235), pack-reused 100453\n",
            "Receiving objects: 100% (140483/140483), 861.74 MiB | 27.45 MiB/s, done.\n",
            "Resolving deltas: 100% (1507/1507), done.\n",
            "Checking out files: 100% (10012/10012), done.\n"
          ]
        }
      ],
      "source": [
        "!git clone https://github.com/ronen-halevy/shapes-dataset.git"
      ]
    },
    {
      "cell_type": "markdown",
      "source": [
        "## 1. Create tfrecord dataset"
      ],
      "metadata": {
        "id": "RDCeuDJF_6ST"
      }
    },
    {
      "cell_type": "code",
      "source": [
        "import os\n",
        "import glob\n",
        "import json\n",
        "import tensorflow as tf\n",
        "import numpy as np\n",
        "import argparse\n",
        "\n",
        "\n",
        "class ExampleProtos:\n",
        "    @staticmethod\n",
        "    def image_feature(value):\n",
        "        return tf.train.Feature(\n",
        "            bytes_list=tf.train.BytesList(value=[tf.io.encode_jpeg(value).numpy()])\n",
        "        )\n",
        "\n",
        "    @staticmethod\n",
        "    def bytes_feature(value):\n",
        "        return tf.train.Feature(bytes_list=tf.train.BytesList(value=[value.encode()]))\n",
        "\n",
        "    @staticmethod\n",
        "    def bytes_feature_list(value):\n",
        "        value = [x.encode('utf8') for x in value]\n",
        "        return tf.train.Feature(bytes_list=tf.train.BytesList(value=value))\n",
        "\n",
        "    @staticmethod\n",
        "    def float_feature(value):\n",
        "        return tf.train.Feature(float_list=tf.train.FloatList(value=[value]))\n",
        "\n",
        "    @staticmethod\n",
        "    def int64_feature(value):\n",
        "        return tf.train.Feature(int64_list=tf.train.Int64List(value=[value]))\n",
        "\n",
        "    @staticmethod\n",
        "    def int64_feature_list(value):\n",
        "        return tf.train.Feature(int64_list=tf.train.Int64List(value=value))\n",
        "\n",
        "    @staticmethod\n",
        "    def float_feature_list(value):\n",
        "        return tf.train.Feature(float_list=tf.train.FloatList(value=value))\n",
        "\n",
        "\n",
        "def create_example(image, example):\n",
        "    boxes = np.reshape(example['bboxes'], -1)\n",
        "    label = [entry['label'] for entry in example['objects']]\n",
        "\n",
        "    feature = {\n",
        "        'image/encoded': ExampleProtos.image_feature(image),\n",
        "        'image/object/bbox/xmin': ExampleProtos.float_feature_list(boxes[0::4].tolist()),\n",
        "        'image/object/bbox/ymin': ExampleProtos.float_feature_list(boxes[1::4].tolist()),\n",
        "        'image/object/bbox/xmax': ExampleProtos.float_feature_list(boxes[2::4].tolist()),\n",
        "        'image/object/bbox/ymax': ExampleProtos.float_feature_list(boxes[3::4].tolist()),\n",
        "        'image/object/class/label': ExampleProtos.bytes_feature_list(label),\n",
        "    }\n",
        "    return tf.train.Example(features=tf.train.Features(feature=feature))\n",
        "\n",
        "\n",
        "def create_tfrecords(input_annotation_file, images_dir, tfrecords_out_dir, tfrec_file_size, examples_limit=None):\n",
        "    with open(input_annotation_file, 'r') as f:\n",
        "        annotations = json.load(f)['annotations']\n",
        "\n",
        "    num_examples = min(len(annotations), examples_limit or float('inf'))\n",
        "    num_samples_in_tfrecord = min(tfrec_file_size, num_examples)\n",
        "    num_tfrecords = num_examples // num_samples_in_tfrecord\n",
        "    if num_examples % num_samples_in_tfrecord:\n",
        "        num_tfrecords += 1\n",
        "\n",
        "    if not os.path.exists(tfrecords_out_dir):\n",
        "        os.makedirs(tfrecords_out_dir)\n",
        "    else:\n",
        "        to_del_files = glob.glob(f'{tfrecords_out_dir}/*.tfrec')\n",
        "        [os.remove(f) for f in to_del_files]\n",
        "\n",
        "    print(f'Starting! \\nCreating {num_examples} examples in {num_tfrecords} tfrecord files.')\n",
        "    print(f'Output dir: {tfrecords_out_dir}')\n",
        "\n",
        "    for tfrec_num in range(num_tfrecords):\n",
        "        samples = annotations[(tfrec_num * num_samples_in_tfrecord): ((tfrec_num + 1) * num_samples_in_tfrecord)]\n",
        "\n",
        "        with tf.io.TFRecordWriter(\n",
        "                tfrecords_out_dir + '/file_%.2i-%i.tfrec' % (tfrec_num, len(samples))\n",
        "        ) as writer:\n",
        "            for sample in samples:\n",
        "                image_path = images_dir + sample['image_filename']\n",
        "                image = tf.io.decode_jpeg(tf.io.read_file(image_path))\n",
        "                example = create_example(image, sample)\n",
        "                writer.write(example.SerializeToString())\n",
        "\n",
        "    print('Done!')\n"
      ],
      "metadata": {
        "id": "-iyXYwpDjLiq"
      },
      "execution_count": null,
      "outputs": []
    },
    {
      "cell_type": "code",
      "source": [
        "annotations = '/content/shapes-dataset/dataset/annotations/annotations.json'\n",
        "out_dir = './dataset/tfrecords'\n",
        "images_dir = '/content/shapes-dataset/dataset/images/'\n",
        "tfrec_file_size = 4096\n",
        "examples_limit = None\n",
        "create_tfrecords(annotations, images_dir, out_dir, tfrec_file_size, examples_limit)"
      ],
      "metadata": {
        "colab": {
          "base_uri": "https://localhost:8080/"
        },
        "id": "1W3K7_YgjQQK",
        "outputId": "8ee5a064-b41b-4978-b966-00d26450970b"
      },
      "execution_count": null,
      "outputs": [
        {
          "output_type": "stream",
          "name": "stdout",
          "text": [
            "Starting! \n",
            "Creating 10000 examples in 3 tfrecord files.\n",
            "Output dir: ./dataset/tfrecords\n",
            "Done!\n"
          ]
        }
      ]
    },
    {
      "cell_type": "markdown",
      "source": [
        "## 2. Read Examples from Tfrecords Files\n",
        "\n",
        "The data is extracted from files and parsed"
      ],
      "metadata": {
        "id": "sGPsBIwylMNU"
      }
    },
    {
      "cell_type": "code",
      "source": [
        "import tensorflow as tf\n",
        "\n",
        "def parse_tfrecord_fn(tfrecord, class_table, max_boxes, size):\n",
        "    feature_description = {\n",
        "        \"image/encoded\": tf.io.FixedLenFeature([], tf.string),\n",
        "        \"image/object/class/label\": tf.io.VarLenFeature(tf.string),\n",
        "        \"image/object/bbox/xmin\": tf.io.VarLenFeature(tf.float32),\n",
        "        \"image/object/bbox/ymin\": tf.io.VarLenFeature(tf.float32),\n",
        "        \"image/object/bbox/xmax\": tf.io.VarLenFeature(tf.float32),\n",
        "        \"image/object/bbox/ymax\": tf.io.VarLenFeature(tf.float32),\n",
        "    }\n",
        "    example = tf.io.parse_single_example(tfrecord, feature_description)\n",
        "\n",
        "    x_train = tf.image.decode_jpeg(example['image/encoded'], channels=3)\n",
        "    x_train = tf.image.resize(x_train, (size, size)) / 255\n",
        "\n",
        "    labels = tf.sparse.to_dense(\n",
        "        example.get('image/object/class/label', ','), default_value='')\n",
        "    labels = tf.cast(class_table.lookup(labels), tf.float32)\n",
        "    y_train = tf.stack([tf.sparse.to_dense(example['image/object/bbox/xmin']),\n",
        "                        tf.sparse.to_dense(example['image/object/bbox/ymin']),\n",
        "                        tf.sparse.to_dense(example['image/object/bbox/xmax']),\n",
        "                        tf.sparse.to_dense(example['image/object/bbox/ymax']),\n",
        "                        labels], axis=1)\n",
        "\n",
        "    paddings = [[0, max_boxes - tf.shape(y_train)[0]], [0, 0]]\n",
        "    y_train = tf.pad(y_train, paddings)\n",
        "\n",
        "    return x_train, y_train\n",
        "\n",
        " "
      ],
      "metadata": {
        "id": "qcrO0yIDUotH"
      },
      "execution_count": null,
      "outputs": []
    },
    {
      "cell_type": "code",
      "source": [
        "def read_dataset(class_file, tfrecords_dir, max_boxes):\n",
        "    class_table = tf.lookup.StaticHashTable(tf.lookup.TextFileInitializer(\n",
        "        filename=class_file, key_dtype=tf.string, key_index=0, value_dtype=tf.int64,\n",
        "        value_index=tf.lookup.TextFileIndex.LINE_NUMBER, delimiter=\"\\n\"), default_value=-1)\n",
        "\n",
        "    files = tf.data.Dataset.list_files(f\"{tfrecords_dir}/*.tfrec\")\n",
        "\n",
        "    dataset = files.flat_map(tf.data.TFRecordDataset)\n",
        "    dataset = dataset.map(lambda tfrecord: parse_tfrecord_fn(tfrecord, class_table, max_boxes, size=416))\n",
        "    return dataset"
      ],
      "metadata": {
        "id": "zySbnGZaZ4QX"
      },
      "execution_count": null,
      "outputs": []
    },
    {
      "cell_type": "code",
      "source": [
        "tfrecords_dir = './dataset/tfrecords'\n",
        "\n",
        "class_file = '/content/shapes-dataset/dataset/class.names'\n",
        "max_boxes = 100\n",
        "dataset = read_dataset(class_file, tfrecords_dir, max_boxes)\n"
      ],
      "metadata": {
        "id": "yz2ekLu0aBM7"
      },
      "execution_count": null,
      "outputs": []
    },
    {
      "cell_type": "markdown",
      "source": [
        "## 3. Illustrate Plotting Dataset Examples\n",
        "\n",
        "Using the parsed dataset, drow some example images with bounding boxes and text labels overlayed."
      ],
      "metadata": {
        "id": "rtsanWVhlFnG"
      }
    },
    {
      "cell_type": "code",
      "source": [
        "from PIL import Image\n",
        "from PIL import ImageColor\n",
        "from PIL import ImageDraw\n",
        "from PIL import ImageFont\n",
        "\n",
        "def draw_text_on_bounding_box(image, ymin, xmin, color, display_str_list=(), font_size=30):\n",
        "    draw = ImageDraw.Draw(image)\n",
        "    try:\n",
        "        font = ImageFont.truetype(\"/usr/share/fonts/truetype/liberation/LiberationSansNarrow-Regular.ttf\",\n",
        "                                  font_size)\n",
        "    except IOError:\n",
        "        print(\"Font not found, using default font.\")\n",
        "        font = ImageFont.load_default()\n",
        "\n",
        "    text_margin_factor = 0.05\n",
        "\n",
        "    text_widths, text_heights = zip(*[font.getsize(display_str) for display_str in display_str_list])\n",
        "    text_margins = np.ceil(text_margin_factor * np.array(text_heights))\n",
        "    text_bottoms = ymin * (ymin > text_heights) + (ymin + text_heights) * (ymin <= text_heights)\n",
        "\n",
        "    for idx, (display_str, xmint, text_bottom, text_width, text_height, text_margin) in enumerate(\n",
        "            zip(display_str_list, xmin, text_bottoms, text_widths, text_heights, text_margins)):\n",
        "        text_width, text_height = font.getsize(display_str)\n",
        "        text_margin = np.ceil(text_margin_factor * text_height)\n",
        "\n",
        "        draw.rectangle(((xmint, text_bottom - text_height - 2 * text_margin),\n",
        "                        (xmint + text_width + text_margin, text_bottom)),\n",
        "                       fill=color)\n",
        "\n",
        "        draw.text((xmint + text_margin, text_bottom - text_height - text_margin),\n",
        "                  display_str,\n",
        "                  fill=\"black\",\n",
        "                  font=font)\n",
        "    return image\n"
      ],
      "metadata": {
        "id": "GG3cZKQgZxOx"
      },
      "execution_count": null,
      "outputs": []
    },
    {
      "cell_type": "code",
      "source": [
        "def draw_bounding_box(image, boxes, color, thickness=3):\n",
        "    draw = ImageDraw.Draw(image)\n",
        "    for box in boxes:\n",
        "        xmin, ymin, xmax, ymax = box\n",
        "        draw.line([(xmin, ymin), (xmin, ymax), (xmax, ymax), (xmax, ymin),\n",
        "                   (xmin, ymin)],\n",
        "                  width=thickness,\n",
        "                  fill=color)\n",
        "    return image\n"
      ],
      "metadata": {
        "id": "CB0sOrZEZz0q"
      },
      "execution_count": null,
      "outputs": []
    },
    {
      "cell_type": "code",
      "source": [
        "def render_dataset_examples(dataset, class_file):\n",
        "    data = dataset.take(1)\n",
        "    image, y = next(iter(data))\n",
        "\n",
        "    y = y[y[..., 2].numpy() != 0]  # remove padding\n",
        "    image_pil = Image.fromarray(np.uint8(image.numpy() * 255))\n",
        "    annotated_bbox_image = draw_bounding_box(image_pil, y[..., 0:4], color=(255, 255, 0),\n",
        "                                             thickness=3)\n",
        "\n",
        "    colors = list(ImageColor.colormap.values())\n",
        "    color = colors[0]\n",
        "    class_text = np.loadtxt(class_file, dtype=str)\n",
        "\n",
        "    classes = class_text[y[..., 4].numpy().astype(int)]\n",
        "    annotated_text_image = draw_text_on_bounding_box(annotated_bbox_image, y[..., 1].numpy(), y[..., 0].numpy(), color,\n",
        "                                                     classes, font_size=15)\n",
        "    return annotated_text_image"
      ],
      "metadata": {
        "id": "4Kg2bP8EZ1xw"
      },
      "execution_count": null,
      "outputs": []
    },
    {
      "cell_type": "code",
      "source": [
        "render_dataset_examples(dataset, class_file)\n"
      ],
      "metadata": {
        "id": "UV6R2x9hcnkP",
        "outputId": "93a07cc1-cbfb-4844-dae3-ad92b5447fb1",
        "colab": {
          "base_uri": "https://localhost:8080/",
          "height": 433
        }
      },
      "execution_count": null,
      "outputs": [
        {
          "output_type": "execute_result",
          "data": {
            "text/plain": [
              "<PIL.Image.Image image mode=RGB size=416x416 at 0x7EFC0A5367D0>"
            ],
            "image/png": "[encoded data removed]"
          },
          "metadata": {},
          "execution_count": 31
        }
      ]
    },
    {
      "cell_type": "markdown",
      "source": [
        "## 4. Illustrate dataset split to Train, Validation and Test splits"
      ],
      "metadata": {
        "id": "DdUvhObdmPYb"
      }
    },
    {
      "cell_type": "code",
      "source": [
        "ds_size = sum(1 for _ in dataset)\n",
        "train_split = 0.7\n",
        "val_split = 0.20\n",
        "test_split = 0.10"
      ],
      "metadata": {
        "id": "WFalm5Kcnj7g"
      },
      "execution_count": null,
      "outputs": []
    },
    {
      "cell_type": "code",
      "source": [
        "train_size = int(train_split * ds_size)\n",
        "val_size = int(val_split * ds_size)\n",
        "test_size = int(test_split * ds_size)\n",
        "# for a perfect shuffle buffer size should equal the dataset size. Otherwise, \n",
        "# take care to shuffle when creating tfrecords\n",
        "full_dataset = dataset.shuffle(buffer_size=1000, reshuffle_each_iteration=False)\n",
        "train_dataset = dataset.take(train_size)\n",
        "test_dataset = dataset.skip(train_size)\n",
        "val_dataset = dataset.skip(train_size+test_size)\n",
        "test_dataset = test_dataset.take(test_size)"
      ],
      "metadata": {
        "id": "IM-Nl8Bda7DD"
      },
      "execution_count": null,
      "outputs": []
    }
  ]
}