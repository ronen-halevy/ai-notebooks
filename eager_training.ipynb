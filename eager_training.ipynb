{
  "nbformat": 4,
  "nbformat_minor": 0,
  "metadata": {
    "colab": {
      "name": "eager-training.ipynb",
      "provenance": [],
      "authorship_tag": "ABX9TyMiUj8KaC51Bx5yYOA/cjYv",
      "include_colab_link": true
    },
    "kernelspec": {
      "name": "python3",
      "display_name": "Python 3"
    },
    "language_info": {
      "name": "python"
    }
  },
  "cells": [
    {
      "cell_type": "markdown",
      "metadata": {
        "id": "view-in-github",
        "colab_type": "text"
      },
      "source": [
        "<a href=\"https://colab.research.google.com/github/ronen-halevy/ai-notebooks/blob/main/eager_training.ipynb\" target=\"_parent\"><img src=\"https://colab.research.google.com/assets/colab-badge.svg\" alt=\"Open In Colab\"/></a>"
      ]
    },
    {
      "cell_type": "code",
      "source": [
        "\n",
        "\n",
        "import tensorflow as tf\n",
        "\n",
        "\n",
        "def main():\n",
        "\n",
        "    (train_images, train_labels), (test_images, test_labels) = tf.keras.datasets.cifar10.load_data()\n",
        "\n",
        "    train_images, test_images = train_images / 255.0, test_images / 255.0\n",
        "\n",
        "    batch_size = 32\n",
        "    train_dataset = tf.data.Dataset.from_tensor_slices(\n",
        "        (tf.cast(train_images, tf.float32),\n",
        "         tf.cast(train_labels, tf.int64)))\n",
        "    train_dataset = train_dataset.shuffle(50000).batch(batch_size)\n",
        "\n",
        "    model = tf.keras.Sequential([\n",
        "        tf.keras.layers.Conv2D(32, (3, 3), activation='relu', input_shape=(32, 32, 3)),\n",
        "        tf.keras.layers.MaxPooling2D((2, 2)),\n",
        "        tf.keras.layers.Flatten(),\n",
        "        tf.keras.layers.Dense(10, activation='softmax'),\n",
        "    ])\n",
        "    model.summary()\n",
        "\n",
        "\n",
        "    optimizer = tf.keras.optimizers.Adam()\n",
        "    loss_fn = tf.keras.losses.SparseCategoricalCrossentropy()\n",
        "    loss_metric = tf.keras.metrics.Mean(name='train_loss')\n",
        "    accuracy_metric = tf.keras.metrics.SparseCategoricalAccuracy(name='train_accuracy')\n",
        "\n",
        "    train_loss_history = []\n",
        "    accuracy_history = []\n",
        "\n",
        "    # @tf.function\n",
        "    def train_step(images, labels):\n",
        "        with tf.GradientTape() as tape:\n",
        "            predictions = model(images, training=True)\n",
        "            pred_loss = loss_fn(labels, predictions)\n",
        "\n",
        "        grads = tape.gradient(pred_loss, model.trainable_variables)\n",
        "        optimizer.apply_gradients(zip(grads, model.trainable_variables))\n",
        "\n",
        "        loss_metric.update_state(pred_loss)\n",
        "        accuracy_metric.update_state(labels, predictions)\n",
        "\n",
        "    for epoch in range(2):\n",
        "        loss_metric.reset_states()\n",
        "        accuracy_metric.reset_states()\n",
        "\n",
        "        for images, labels in train_dataset:\n",
        "            train_step(images, labels)\n",
        "\n",
        "        train_loss_history.append(loss_metric.result())\n",
        "        accuracy_history.append(accuracy_metric.result())\n",
        "        print(f'Epoch {epoch}, Loss {loss_metric.result()}, Accuracy {accuracy_metric.result()}')\n",
        "\n",
        "    print(\"accuracy: \", accuracy_history)\n",
        "    print(\"train loss: \", train_loss_history)\n",
        "\n",
        "\n",
        "if __name__ == '__main__':\n",
        "    main()"
      ],
      "metadata": {
        "colab": {
          "base_uri": "https://localhost:8080/"
        },
        "id": "B6njm_eyBLDi",
        "outputId": "e244c8db-84ab-4411-e592-bd71bafb7311"
      },
      "execution_count": 11,
      "outputs": [
        {
          "output_type": "stream",
          "name": "stdout",
          "text": [
            "eager mode True\n",
            "Model: \"sequential_5\"\n",
            "_________________________________________________________________\n",
            " Layer (type)                Output Shape              Param #   \n",
            "=================================================================\n",
            " conv2d_9 (Conv2D)           (None, 30, 30, 32)        896       \n",
            "                                                                 \n",
            " max_pooling2d_7 (MaxPooling  (None, 15, 15, 32)       0         \n",
            " 2D)                                                             \n",
            "                                                                 \n",
            " flatten_4 (Flatten)         (None, 7200)              0         \n",
            "                                                                 \n",
            " dense_11 (Dense)            (None, 10)                72010     \n",
            "                                                                 \n",
            "=================================================================\n",
            "Total params: 72,906\n",
            "Trainable params: 72,906\n",
            "Non-trainable params: 0\n",
            "_________________________________________________________________\n",
            "Epoch 0, Loss 1.4632290601730347, Accuracy 0.48848000168800354\n",
            "Epoch 1, Loss 1.1753791570663452, Accuracy 0.5924800038337708\n",
            "Epoch 2, Loss 1.066942811012268, Accuracy 0.631820023059845\n",
            "Epoch 3, Loss 1.0027331113815308, Accuracy 0.6551399827003479\n",
            "Epoch 4, Loss 0.9567514061927795, Accuracy 0.6723799705505371\n",
            "Epoch 5, Loss 0.9177721738815308, Accuracy 0.6850799918174744\n",
            "Epoch 6, Loss 0.8856328725814819, Accuracy 0.6939600110054016\n",
            "Epoch 7, Loss 0.8592692017555237, Accuracy 0.7042800188064575\n",
            "Epoch 8, Loss 0.8346673846244812, Accuracy 0.7105200290679932\n",
            "Epoch 9, Loss 0.8124732971191406, Accuracy 0.7208600044250488\n",
            "accuracy:  [<tf.Tensor: shape=(), dtype=float32, numpy=0.48848>, <tf.Tensor: shape=(), dtype=float32, numpy=0.59248>, <tf.Tensor: shape=(), dtype=float32, numpy=0.63182>, <tf.Tensor: shape=(), dtype=float32, numpy=0.65514>, <tf.Tensor: shape=(), dtype=float32, numpy=0.67238>, <tf.Tensor: shape=(), dtype=float32, numpy=0.68508>, <tf.Tensor: shape=(), dtype=float32, numpy=0.69396>, <tf.Tensor: shape=(), dtype=float32, numpy=0.70428>, <tf.Tensor: shape=(), dtype=float32, numpy=0.71052>, <tf.Tensor: shape=(), dtype=float32, numpy=0.72086>]\n",
            "train loss:  [<tf.Tensor: shape=(), dtype=float32, numpy=1.4632291>, <tf.Tensor: shape=(), dtype=float32, numpy=1.1753792>, <tf.Tensor: shape=(), dtype=float32, numpy=1.0669428>, <tf.Tensor: shape=(), dtype=float32, numpy=1.0027331>, <tf.Tensor: shape=(), dtype=float32, numpy=0.9567514>, <tf.Tensor: shape=(), dtype=float32, numpy=0.9177722>, <tf.Tensor: shape=(), dtype=float32, numpy=0.8856329>, <tf.Tensor: shape=(), dtype=float32, numpy=0.8592692>, <tf.Tensor: shape=(), dtype=float32, numpy=0.8346674>, <tf.Tensor: shape=(), dtype=float32, numpy=0.8124733>]\n"
          ]
        }
      ]
    }
  ]
}